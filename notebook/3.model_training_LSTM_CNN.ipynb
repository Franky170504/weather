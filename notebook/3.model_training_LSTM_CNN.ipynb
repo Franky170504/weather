{
 "cells": [
  {
   "cell_type": "code",
   "execution_count": 1,
   "metadata": {},
   "outputs": [],
   "source": [
    "import pandas as pd\n",
    "import numpy as np\n",
    "import tensorflow as tf\n"
   ]
  },
  {
   "cell_type": "code",
   "execution_count": 2,
   "metadata": {},
   "outputs": [],
   "source": [
    "from tensorflow.keras.models import Sequential\n",
    "from tensorflow.keras.layers import Conv1D, MaxPooling1D, LSTM, Dense, Flatten, Dropout\n",
    "from sklearn.preprocessing import MinMaxScaler\n",
    "from sklearn.model_selection import StratifiedKFold, train_test_split"
   ]
  },
  {
   "cell_type": "code",
   "execution_count": 31,
   "metadata": {},
   "outputs": [],
   "source": [
    "df = pd.read_csv(r\"data\\labelled\\santacruz_labelled_days.csv\")"
   ]
  },
  {
   "cell_type": "code",
   "execution_count": 32,
   "metadata": {},
   "outputs": [
    {
     "data": {
      "application/vnd.microsoft.datawrangler.viewer.v0+json": {
       "columns": [
        {
         "name": "index",
         "rawType": "int64",
         "type": "integer"
        },
        {
         "name": "DATE",
         "rawType": "object",
         "type": "string"
        },
        {
         "name": "DPT",
         "rawType": "float64",
         "type": "float"
        },
        {
         "name": "WBT",
         "rawType": "float64",
         "type": "float"
        },
        {
         "name": "DBT",
         "rawType": "float64",
         "type": "float"
        },
        {
         "name": "Normal_Temp",
         "rawType": "float64",
         "type": "float"
        },
        {
         "name": "Heatwave",
         "rawType": "float64",
         "type": "float"
        },
        {
         "name": "Heatwave_Days",
         "rawType": "int64",
         "type": "integer"
        }
       ],
       "conversionMethod": "pd.DataFrame",
       "ref": "f4316a84-775d-425c-9730-d5c60a95ff64",
       "rows": [
        [
         "0",
         "2010-01-01",
         "16.0875",
         "19.775",
         "25.725",
         "30.4",
         "0.0",
         "0"
        ],
        [
         "1",
         "2010-01-02",
         "18.200000000000003",
         "21.375",
         "26.975",
         "30.4",
         "0.0",
         "0"
        ],
        [
         "2",
         "2010-01-03",
         "19.7375",
         "22.025",
         "26.3",
         "30.4",
         "0.0",
         "0"
        ],
        [
         "3",
         "2010-01-04",
         "18.025",
         "20.45",
         "24.575",
         "30.4",
         "0.0",
         "0"
        ],
        [
         "4",
         "2010-01-05",
         "18.55",
         "20.575",
         "24.175",
         "30.4",
         "0.0",
         "0"
        ],
        [
         "5",
         "2010-01-06",
         "17.55",
         "20.525",
         "25.575",
         "30.4",
         "0.0",
         "0"
        ],
        [
         "6",
         "2010-01-07",
         "15.475",
         "19.875",
         "26.675",
         "30.4",
         "0.0",
         "0"
        ],
        [
         "7",
         "2010-01-08",
         "15.525",
         "19.55",
         "25.775",
         "30.4",
         "0.0",
         "0"
        ],
        [
         "8",
         "2010-01-09",
         "14.8875",
         "18.925",
         "24.975",
         "30.4",
         "0.0",
         "0"
        ],
        [
         "9",
         "2010-01-10",
         "15.775",
         "19.425",
         "25.2",
         "30.4",
         "0.0",
         "0"
        ],
        [
         "10",
         "2010-01-11",
         "18.7375",
         "21.325",
         "25.925",
         "30.4",
         "0.0",
         "0"
        ],
        [
         "11",
         "2010-01-12",
         "20.5125",
         "22.5",
         "26.275",
         "30.4",
         "0.0",
         "0"
        ],
        [
         "12",
         "2010-01-13",
         "12.5875",
         "17.5",
         "23.975",
         "30.4",
         "0.0",
         "0"
        ],
        [
         "13",
         "2010-01-14",
         "12.9125",
         "17.0",
         "22.65",
         "30.4",
         "0.0",
         "0"
        ],
        [
         "14",
         "2010-01-15",
         "16.5",
         "20.05",
         "25.85",
         "30.4",
         "0.0",
         "0"
        ],
        [
         "15",
         "2010-01-16",
         "17.4625",
         "21.225",
         "27.6",
         "30.4",
         "0.0",
         "0"
        ],
        [
         "16",
         "2010-01-17",
         "14.75",
         "19.15",
         "25.625",
         "30.4",
         "0.0",
         "0"
        ],
        [
         "17",
         "2010-01-18",
         "16.45",
         "19.325",
         "24.0",
         "30.4",
         "0.0",
         "0"
        ],
        [
         "18",
         "2010-01-19",
         "15.575",
         "19.275",
         "25.075",
         "30.4",
         "0.0",
         "0"
        ],
        [
         "19",
         "2010-01-20",
         "14.0375",
         "18.8",
         "25.9",
         "30.4",
         "0.0",
         "0"
        ],
        [
         "20",
         "2010-01-21",
         "14.3",
         "19.05",
         "26.05",
         "30.4",
         "0.0",
         "0"
        ],
        [
         "21",
         "2010-01-22",
         "15.325",
         "19.225",
         "25.15",
         "30.4",
         "0.0",
         "0"
        ],
        [
         "22",
         "2010-01-23",
         "15.3875",
         "19.025",
         "24.45",
         "30.4",
         "0.0",
         "0"
        ],
        [
         "23",
         "2010-01-24",
         "16.8",
         "19.75",
         "24.55",
         "30.4",
         "0.0",
         "0"
        ],
        [
         "24",
         "2010-01-25",
         "15.357142857142858",
         "18.857142857142858",
         "24.2",
         "30.4",
         "0.0",
         "0"
        ],
        [
         "25",
         "2010-01-26",
         "12.725",
         "18.2",
         "25.9",
         "30.4",
         "0.0",
         "0"
        ],
        [
         "26",
         "2010-01-27",
         "13.725",
         "18.45",
         "25.325",
         "30.4",
         "0.0",
         "0"
        ],
        [
         "27",
         "2010-01-28",
         "12.125",
         "17.725",
         "25.275",
         "30.4",
         "0.0",
         "0"
        ],
        [
         "28",
         "2010-01-29",
         "14.025",
         "18.275",
         "24.55",
         "30.4",
         "0.0",
         "0"
        ],
        [
         "29",
         "2010-01-30",
         "14.15",
         "18.875",
         "25.825",
         "30.4",
         "0.0",
         "0"
        ],
        [
         "30",
         "2010-01-31",
         "15.65",
         "19.35",
         "25.175",
         "30.4",
         "0.0",
         "0"
        ],
        [
         "31",
         "2010-02-01",
         "18.2",
         "20.725",
         "25.175",
         "31.1",
         "0.0",
         "0"
        ],
        [
         "32",
         "2010-02-02",
         "18.9875",
         "21.25",
         "25.35",
         "31.1",
         "0.0",
         "0"
        ],
        [
         "33",
         "2010-02-03",
         "18.8625",
         "20.725",
         "24.1",
         "31.1",
         "0.0",
         "0"
        ],
        [
         "34",
         "2010-02-04",
         "19.05",
         "20.75",
         "23.875",
         "31.1",
         "0.0",
         "0"
        ],
        [
         "35",
         "2010-02-05",
         "20.325",
         "21.7",
         "24.375",
         "31.1",
         "0.0",
         "0"
        ],
        [
         "36",
         "2010-02-06",
         "20.375",
         "22.35",
         "26.275",
         "31.1",
         "0.0",
         "0"
        ],
        [
         "37",
         "2010-02-07",
         "19.5125",
         "21.875",
         "26.425",
         "31.1",
         "0.0",
         "0"
        ],
        [
         "38",
         "2010-02-08",
         "21.525",
         "22.7",
         "25.1",
         "31.1",
         "0.0",
         "0"
        ],
        [
         "39",
         "2010-02-09",
         "21.25",
         "22.575",
         "25.275",
         "31.1",
         "0.0",
         "0"
        ],
        [
         "40",
         "2010-02-10",
         "19.475",
         "21.45",
         "24.975",
         "31.1",
         "0.0",
         "0"
        ],
        [
         "41",
         "2010-02-11",
         "17.4625",
         "19.975",
         "24.225",
         "31.1",
         "0.0",
         "0"
        ],
        [
         "42",
         "2010-02-12",
         "18.1375",
         "20.45",
         "24.425",
         "31.1",
         "0.0",
         "0"
        ],
        [
         "43",
         "2010-02-13",
         "14.925",
         "18.775",
         "24.35",
         "31.1",
         "0.0",
         "0"
        ],
        [
         "44",
         "2010-02-14",
         "12.5125",
         "17.85",
         "25.1",
         "31.1",
         "0.0",
         "0"
        ],
        [
         "45",
         "2010-02-15",
         "12.525",
         "17.925",
         "25.3",
         "31.1",
         "0.0",
         "0"
        ],
        [
         "46",
         "2010-02-16",
         "10.5875",
         "17.1",
         "25.4",
         "31.1",
         "0.0",
         "0"
        ],
        [
         "47",
         "2010-02-17",
         "12.25",
         "18.15",
         "25.975",
         "31.1",
         "0.0",
         "0"
        ],
        [
         "48",
         "2010-02-18",
         "15.4625",
         "19.075",
         "24.7625",
         "31.1",
         "0.0",
         "0"
        ],
        [
         "49",
         "2010-02-19",
         "15.9875",
         "19.35",
         "24.575",
         "31.1",
         "0.0",
         "0"
        ]
       ],
       "shape": {
        "columns": 7,
        "rows": 5479
       }
      },
      "text/html": [
       "<div>\n",
       "<style scoped>\n",
       "    .dataframe tbody tr th:only-of-type {\n",
       "        vertical-align: middle;\n",
       "    }\n",
       "\n",
       "    .dataframe tbody tr th {\n",
       "        vertical-align: top;\n",
       "    }\n",
       "\n",
       "    .dataframe thead th {\n",
       "        text-align: right;\n",
       "    }\n",
       "</style>\n",
       "<table border=\"1\" class=\"dataframe\">\n",
       "  <thead>\n",
       "    <tr style=\"text-align: right;\">\n",
       "      <th></th>\n",
       "      <th>DATE</th>\n",
       "      <th>DPT</th>\n",
       "      <th>WBT</th>\n",
       "      <th>DBT</th>\n",
       "      <th>Normal_Temp</th>\n",
       "      <th>Heatwave</th>\n",
       "      <th>Heatwave_Days</th>\n",
       "    </tr>\n",
       "  </thead>\n",
       "  <tbody>\n",
       "    <tr>\n",
       "      <th>0</th>\n",
       "      <td>2010-01-01</td>\n",
       "      <td>16.0875</td>\n",
       "      <td>19.775</td>\n",
       "      <td>25.725000</td>\n",
       "      <td>30.4</td>\n",
       "      <td>0.0</td>\n",
       "      <td>0</td>\n",
       "    </tr>\n",
       "    <tr>\n",
       "      <th>1</th>\n",
       "      <td>2010-01-02</td>\n",
       "      <td>18.2000</td>\n",
       "      <td>21.375</td>\n",
       "      <td>26.975000</td>\n",
       "      <td>30.4</td>\n",
       "      <td>0.0</td>\n",
       "      <td>0</td>\n",
       "    </tr>\n",
       "    <tr>\n",
       "      <th>2</th>\n",
       "      <td>2010-01-03</td>\n",
       "      <td>19.7375</td>\n",
       "      <td>22.025</td>\n",
       "      <td>26.300000</td>\n",
       "      <td>30.4</td>\n",
       "      <td>0.0</td>\n",
       "      <td>0</td>\n",
       "    </tr>\n",
       "    <tr>\n",
       "      <th>3</th>\n",
       "      <td>2010-01-04</td>\n",
       "      <td>18.0250</td>\n",
       "      <td>20.450</td>\n",
       "      <td>24.575000</td>\n",
       "      <td>30.4</td>\n",
       "      <td>0.0</td>\n",
       "      <td>0</td>\n",
       "    </tr>\n",
       "    <tr>\n",
       "      <th>4</th>\n",
       "      <td>2010-01-05</td>\n",
       "      <td>18.5500</td>\n",
       "      <td>20.575</td>\n",
       "      <td>24.175000</td>\n",
       "      <td>30.4</td>\n",
       "      <td>0.0</td>\n",
       "      <td>0</td>\n",
       "    </tr>\n",
       "    <tr>\n",
       "      <th>...</th>\n",
       "      <td>...</td>\n",
       "      <td>...</td>\n",
       "      <td>...</td>\n",
       "      <td>...</td>\n",
       "      <td>...</td>\n",
       "      <td>...</td>\n",
       "      <td>...</td>\n",
       "    </tr>\n",
       "    <tr>\n",
       "      <th>5474</th>\n",
       "      <td>2024-12-27</td>\n",
       "      <td>13.4625</td>\n",
       "      <td>27.400</td>\n",
       "      <td>21.847186</td>\n",
       "      <td>31.9</td>\n",
       "      <td>0.0</td>\n",
       "      <td>0</td>\n",
       "    </tr>\n",
       "    <tr>\n",
       "      <th>5475</th>\n",
       "      <td>2024-12-28</td>\n",
       "      <td>13.4625</td>\n",
       "      <td>27.400</td>\n",
       "      <td>21.261927</td>\n",
       "      <td>31.9</td>\n",
       "      <td>0.0</td>\n",
       "      <td>0</td>\n",
       "    </tr>\n",
       "    <tr>\n",
       "      <th>5476</th>\n",
       "      <td>2024-12-29</td>\n",
       "      <td>13.4625</td>\n",
       "      <td>27.400</td>\n",
       "      <td>21.481941</td>\n",
       "      <td>31.9</td>\n",
       "      <td>0.0</td>\n",
       "      <td>0</td>\n",
       "    </tr>\n",
       "    <tr>\n",
       "      <th>5477</th>\n",
       "      <td>2024-12-30</td>\n",
       "      <td>13.4625</td>\n",
       "      <td>27.400</td>\n",
       "      <td>21.161551</td>\n",
       "      <td>31.9</td>\n",
       "      <td>0.0</td>\n",
       "      <td>0</td>\n",
       "    </tr>\n",
       "    <tr>\n",
       "      <th>5478</th>\n",
       "      <td>2024-12-31</td>\n",
       "      <td>13.4625</td>\n",
       "      <td>27.400</td>\n",
       "      <td>21.347448</td>\n",
       "      <td>31.9</td>\n",
       "      <td>0.0</td>\n",
       "      <td>0</td>\n",
       "    </tr>\n",
       "  </tbody>\n",
       "</table>\n",
       "<p>5479 rows × 7 columns</p>\n",
       "</div>"
      ],
      "text/plain": [
       "            DATE      DPT     WBT        DBT  Normal_Temp  Heatwave  \\\n",
       "0     2010-01-01  16.0875  19.775  25.725000         30.4       0.0   \n",
       "1     2010-01-02  18.2000  21.375  26.975000         30.4       0.0   \n",
       "2     2010-01-03  19.7375  22.025  26.300000         30.4       0.0   \n",
       "3     2010-01-04  18.0250  20.450  24.575000         30.4       0.0   \n",
       "4     2010-01-05  18.5500  20.575  24.175000         30.4       0.0   \n",
       "...          ...      ...     ...        ...          ...       ...   \n",
       "5474  2024-12-27  13.4625  27.400  21.847186         31.9       0.0   \n",
       "5475  2024-12-28  13.4625  27.400  21.261927         31.9       0.0   \n",
       "5476  2024-12-29  13.4625  27.400  21.481941         31.9       0.0   \n",
       "5477  2024-12-30  13.4625  27.400  21.161551         31.9       0.0   \n",
       "5478  2024-12-31  13.4625  27.400  21.347448         31.9       0.0   \n",
       "\n",
       "      Heatwave_Days  \n",
       "0                 0  \n",
       "1                 0  \n",
       "2                 0  \n",
       "3                 0  \n",
       "4                 0  \n",
       "...             ...  \n",
       "5474              0  \n",
       "5475              0  \n",
       "5476              0  \n",
       "5477              0  \n",
       "5478              0  \n",
       "\n",
       "[5479 rows x 7 columns]"
      ]
     },
     "execution_count": 32,
     "metadata": {},
     "output_type": "execute_result"
    }
   ],
   "source": [
    "df"
   ]
  },
  {
   "cell_type": "code",
   "execution_count": 33,
   "metadata": {},
   "outputs": [
    {
     "data": {
      "text/plain": [
       "DATE             0\n",
       "DPT              0\n",
       "WBT              0\n",
       "DBT              0\n",
       "Normal_Temp      0\n",
       "Heatwave         0\n",
       "Heatwave_Days    0\n",
       "dtype: int64"
      ]
     },
     "execution_count": 33,
     "metadata": {},
     "output_type": "execute_result"
    }
   ],
   "source": [
    "df.isnull().sum()"
   ]
  },
  {
   "cell_type": "code",
   "execution_count": 34,
   "metadata": {},
   "outputs": [
    {
     "data": {
      "text/plain": [
       "Heatwave_Days\n",
       "0    5417\n",
       "1      62\n",
       "Name: count, dtype: int64"
      ]
     },
     "execution_count": 34,
     "metadata": {},
     "output_type": "execute_result"
    }
   ],
   "source": [
    "heatwave_counts = df['Heatwave_Days'].value_counts()\n",
    "heatwave_counts"
   ]
  },
  {
   "cell_type": "code",
   "execution_count": 42,
   "metadata": {},
   "outputs": [],
   "source": [
    "target_col = ['Heatwave_Days']"
   ]
  },
  {
   "cell_type": "code",
   "execution_count": 43,
   "metadata": {},
   "outputs": [],
   "source": [
    "features = ['DPT', 'WBT', 'DBT', 'Normal_Temp']\n",
    "target = ['Heatwave_Days']\n",
    "\n",
    "scaler = MinMaxScaler()\n",
    "df[features] = scaler.fit_transform(df[features])"
   ]
  },
  {
   "cell_type": "code",
   "execution_count": 44,
   "metadata": {},
   "outputs": [],
   "source": [
    "# Convert to sequences for LSTM\n",
    "sequence_length = 10\n",
    "X, y = [], []\n",
    "for i in range(len(df) - sequence_length):\n",
    "    X.append(df[features].iloc[i:i+sequence_length].values)\n",
    "    y.append(df[target].iloc[i+sequence_length])\n",
    "X, y = np.array(X), np.array(y)"
   ]
  },
  {
   "cell_type": "code",
   "execution_count": 45,
   "metadata": {},
   "outputs": [
    {
     "data": {
      "text/plain": [
       "array([[0],\n",
       "       [0],\n",
       "       [0],\n",
       "       ...,\n",
       "       [0],\n",
       "       [0],\n",
       "       [0]], dtype=int64)"
      ]
     },
     "execution_count": 45,
     "metadata": {},
     "output_type": "execute_result"
    }
   ],
   "source": [
    "y"
   ]
  },
  {
   "cell_type": "code",
   "execution_count": 46,
   "metadata": {},
   "outputs": [],
   "source": [
    "kfold = StratifiedKFold(n_splits=5, shuffle=True, random_state=42)\n",
    "fold_no = 1\n",
    "accuracies = []\n",
    "\n",
    "for train_idx, test_idx in kfold.split(X, y):\n",
    "    X_train, X_test = X[train_idx], X[test_idx]\n",
    "    y_train, y_test = y[train_idx], y[test_idx]"
   ]
  },
  {
   "cell_type": "code",
   "execution_count": 47,
   "metadata": {},
   "outputs": [
    {
     "name": "stderr",
     "output_type": "stream",
     "text": [
      "c:\\Users\\LaukikS\\anaconda3\\envs\\dm-env\\lib\\site-packages\\keras\\src\\layers\\convolutional\\base_conv.py:107: UserWarning: Do not pass an `input_shape`/`input_dim` argument to a layer. When using Sequential models, prefer using an `Input(shape)` object as the first layer in the model instead.\n",
      "  super().__init__(activity_regularizer=activity_regularizer, **kwargs)\n"
     ]
    }
   ],
   "source": [
    "model = Sequential([\n",
    "        Conv1D(filters=64, kernel_size=3, activation='relu', input_shape=(sequence_length, len(features))),\n",
    "        MaxPooling1D(pool_size=2),\n",
    "        LSTM(50, return_sequences=True),\n",
    "        LSTM(50),\n",
    "        Dense(50, activation='relu'),\n",
    "        Dropout(0.5),\n",
    "        Dense(1, activation='sigmoid')\n",
    "    ])"
   ]
  },
  {
   "cell_type": "code",
   "execution_count": 48,
   "metadata": {},
   "outputs": [],
   "source": [
    "model.compile(optimizer='adam', loss='binary_crossentropy', metrics=['accuracy'])\n"
   ]
  },
  {
   "cell_type": "code",
   "execution_count": 49,
   "metadata": {},
   "outputs": [
    {
     "name": "stdout",
     "output_type": "stream",
     "text": [
      "Epoch 1/20\n",
      "\u001b[1m137/137\u001b[0m \u001b[32m━━━━━━━━━━━━━━━━━━━━\u001b[0m\u001b[37m\u001b[0m \u001b[1m8s\u001b[0m 22ms/step - accuracy: 0.9800 - loss: 0.2620 - val_accuracy: 0.9890 - val_loss: 0.0602\n",
      "Epoch 2/20\n",
      "\u001b[1m137/137\u001b[0m \u001b[32m━━━━━━━━━━━━━━━━━━━━\u001b[0m\u001b[37m\u001b[0m \u001b[1m2s\u001b[0m 14ms/step - accuracy: 0.9882 - loss: 0.0768 - val_accuracy: 0.9890 - val_loss: 0.0631\n",
      "Epoch 3/20\n",
      "\u001b[1m137/137\u001b[0m \u001b[32m━━━━━━━━━━━━━━━━━━━━\u001b[0m\u001b[37m\u001b[0m \u001b[1m2s\u001b[0m 16ms/step - accuracy: 0.9881 - loss: 0.0724 - val_accuracy: 0.9890 - val_loss: 0.0648\n",
      "Epoch 4/20\n",
      "\u001b[1m137/137\u001b[0m \u001b[32m━━━━━━━━━━━━━━━━━━━━\u001b[0m\u001b[37m\u001b[0m \u001b[1m2s\u001b[0m 16ms/step - accuracy: 0.9900 - loss: 0.0615 - val_accuracy: 0.9890 - val_loss: 0.0607\n",
      "Epoch 5/20\n",
      "\u001b[1m137/137\u001b[0m \u001b[32m━━━━━━━━━━━━━━━━━━━━\u001b[0m\u001b[37m\u001b[0m \u001b[1m2s\u001b[0m 11ms/step - accuracy: 0.9891 - loss: 0.0664 - val_accuracy: 0.9890 - val_loss: 0.0608\n",
      "Epoch 6/20\n",
      "\u001b[1m137/137\u001b[0m \u001b[32m━━━━━━━━━━━━━━━━━━━━\u001b[0m\u001b[37m\u001b[0m \u001b[1m1s\u001b[0m 8ms/step - accuracy: 0.9872 - loss: 0.0730 - val_accuracy: 0.9890 - val_loss: 0.0616\n",
      "Epoch 7/20\n",
      "\u001b[1m137/137\u001b[0m \u001b[32m━━━━━━━━━━━━━━━━━━━━\u001b[0m\u001b[37m\u001b[0m \u001b[1m2s\u001b[0m 11ms/step - accuracy: 0.9874 - loss: 0.0761 - val_accuracy: 0.9890 - val_loss: 0.0606\n",
      "Epoch 8/20\n",
      "\u001b[1m137/137\u001b[0m \u001b[32m━━━━━━━━━━━━━━━━━━━━\u001b[0m\u001b[37m\u001b[0m \u001b[1m2s\u001b[0m 13ms/step - accuracy: 0.9891 - loss: 0.0654 - val_accuracy: 0.9890 - val_loss: 0.0592\n",
      "Epoch 9/20\n",
      "\u001b[1m137/137\u001b[0m \u001b[32m━━━━━━━━━━━━━━━━━━━━\u001b[0m\u001b[37m\u001b[0m \u001b[1m3s\u001b[0m 21ms/step - accuracy: 0.9900 - loss: 0.0647 - val_accuracy: 0.9890 - val_loss: 0.0590\n",
      "Epoch 10/20\n",
      "\u001b[1m137/137\u001b[0m \u001b[32m━━━━━━━━━━━━━━━━━━━━\u001b[0m\u001b[37m\u001b[0m \u001b[1m2s\u001b[0m 11ms/step - accuracy: 0.9894 - loss: 0.0647 - val_accuracy: 0.9890 - val_loss: 0.0583\n",
      "Epoch 11/20\n",
      "\u001b[1m137/137\u001b[0m \u001b[32m━━━━━━━━━━━━━━━━━━━━\u001b[0m\u001b[37m\u001b[0m \u001b[1m3s\u001b[0m 22ms/step - accuracy: 0.9899 - loss: 0.0595 - val_accuracy: 0.9890 - val_loss: 0.0594\n",
      "Epoch 12/20\n",
      "\u001b[1m137/137\u001b[0m \u001b[32m━━━━━━━━━━━━━━━━━━━━\u001b[0m\u001b[37m\u001b[0m \u001b[1m3s\u001b[0m 22ms/step - accuracy: 0.9900 - loss: 0.0567 - val_accuracy: 0.9890 - val_loss: 0.0584\n",
      "Epoch 13/20\n",
      "\u001b[1m137/137\u001b[0m \u001b[32m━━━━━━━━━━━━━━━━━━━━\u001b[0m\u001b[37m\u001b[0m \u001b[1m3s\u001b[0m 21ms/step - accuracy: 0.9885 - loss: 0.0628 - val_accuracy: 0.9890 - val_loss: 0.0593\n",
      "Epoch 14/20\n",
      "\u001b[1m137/137\u001b[0m \u001b[32m━━━━━━━━━━━━━━━━━━━━\u001b[0m\u001b[37m\u001b[0m \u001b[1m3s\u001b[0m 22ms/step - accuracy: 0.9893 - loss: 0.0638 - val_accuracy: 0.9890 - val_loss: 0.0587\n",
      "Epoch 15/20\n",
      "\u001b[1m137/137\u001b[0m \u001b[32m━━━━━━━━━━━━━━━━━━━━\u001b[0m\u001b[37m\u001b[0m \u001b[1m2s\u001b[0m 12ms/step - accuracy: 0.9887 - loss: 0.0666 - val_accuracy: 0.9890 - val_loss: 0.0557\n",
      "Epoch 16/20\n",
      "\u001b[1m137/137\u001b[0m \u001b[32m━━━━━━━━━━━━━━━━━━━━\u001b[0m\u001b[37m\u001b[0m \u001b[1m1s\u001b[0m 8ms/step - accuracy: 0.9889 - loss: 0.0622 - val_accuracy: 0.9890 - val_loss: 0.0564\n",
      "Epoch 17/20\n",
      "\u001b[1m137/137\u001b[0m \u001b[32m━━━━━━━━━━━━━━━━━━━━\u001b[0m\u001b[37m\u001b[0m \u001b[1m2s\u001b[0m 11ms/step - accuracy: 0.9890 - loss: 0.0619 - val_accuracy: 0.9890 - val_loss: 0.0580\n",
      "Epoch 18/20\n",
      "\u001b[1m137/137\u001b[0m \u001b[32m━━━━━━━━━━━━━━━━━━━━\u001b[0m\u001b[37m\u001b[0m \u001b[1m2s\u001b[0m 12ms/step - accuracy: 0.9881 - loss: 0.0633 - val_accuracy: 0.9890 - val_loss: 0.0576\n",
      "Epoch 19/20\n",
      "\u001b[1m137/137\u001b[0m \u001b[32m━━━━━━━━━━━━━━━━━━━━\u001b[0m\u001b[37m\u001b[0m \u001b[1m1s\u001b[0m 9ms/step - accuracy: 0.9861 - loss: 0.0753 - val_accuracy: 0.9890 - val_loss: 0.0554\n",
      "Epoch 20/20\n",
      "\u001b[1m137/137\u001b[0m \u001b[32m━━━━━━━━━━━━━━━━━━━━\u001b[0m\u001b[37m\u001b[0m \u001b[1m1s\u001b[0m 9ms/step - accuracy: 0.9887 - loss: 0.0653 - val_accuracy: 0.9890 - val_loss: 0.0572\n"
     ]
    },
    {
     "data": {
      "text/plain": [
       "<keras.src.callbacks.history.History at 0x21cf82b1040>"
      ]
     },
     "execution_count": 49,
     "metadata": {},
     "output_type": "execute_result"
    }
   ],
   "source": [
    "model.fit(X_train, y_train, epochs=20, batch_size=32, validation_data=(X_test, y_test), verbose=1)"
   ]
  },
  {
   "cell_type": "code",
   "execution_count": 50,
   "metadata": {},
   "outputs": [
    {
     "name": "stdout",
     "output_type": "stream",
     "text": [
      "\u001b[1m35/35\u001b[0m \u001b[32m━━━━━━━━━━━━━━━━━━━━\u001b[0m\u001b[37m\u001b[0m \u001b[1m0s\u001b[0m 6ms/step - accuracy: 0.9886 - loss: 0.0582\n",
      "Fold 1 Accuracy: 0.9890\n",
      "Average Cross-Validation Accuracy: 0.9890\n"
     ]
    }
   ],
   "source": [
    "loss, accuracy = model.evaluate(X_test, y_test)\n",
    "accuracies.append(accuracy)\n",
    "print(f\"Fold {fold_no} Accuracy: {accuracy:.4f}\")\n",
    "fold_no += 1\n",
    "\n",
    "# Print average accuracy\n",
    "print(f\"Average Cross-Validation Accuracy: {np.mean(accuracies):.4f}\")\n"
   ]
  }
 ],
 "metadata": {
  "kernelspec": {
   "display_name": "dm-env",
   "language": "python",
   "name": "python3"
  },
  "language_info": {
   "codemirror_mode": {
    "name": "ipython",
    "version": 3
   },
   "file_extension": ".py",
   "mimetype": "text/x-python",
   "name": "python",
   "nbconvert_exporter": "python",
   "pygments_lexer": "ipython3",
   "version": "3.9.21"
  }
 },
 "nbformat": 4,
 "nbformat_minor": 2
}
