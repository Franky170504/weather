{
 "cells": [
  {
   "cell_type": "code",
   "execution_count": 6,
   "metadata": {},
   "outputs": [],
   "source": [
    "import pandas as pd\n",
    "import numpy as np\n",
    "import tensorflow as tf\n"
   ]
  },
  {
   "cell_type": "code",
   "execution_count": 7,
   "metadata": {},
   "outputs": [],
   "source": [
    "from tensorflow.keras.models import Sequential\n",
    "from tensorflow.keras.layers import Conv1D, MaxPooling1D, LSTM, Dense, Flatten, Dropout\n",
    "from sklearn.preprocessing import MinMaxScaler\n",
    "from sklearn.model_selection import StratifiedKFold, train_test_split"
   ]
  },
  {
   "cell_type": "code",
   "execution_count": 8,
   "metadata": {},
   "outputs": [],
   "source": [
    "df = pd.read_csv(r\"data\\labelled\\santacruz_labelled_days.csv\")"
   ]
  },
  {
   "cell_type": "code",
   "execution_count": 9,
   "metadata": {},
   "outputs": [
    {
     "data": {
      "application/vnd.microsoft.datawrangler.viewer.v0+json": {
       "columns": [
        {
         "name": "index",
         "rawType": "int64",
         "type": "integer"
        },
        {
         "name": "DATE",
         "rawType": "object",
         "type": "string"
        },
        {
         "name": "DPT",
         "rawType": "float64",
         "type": "float"
        },
        {
         "name": "WBT",
         "rawType": "float64",
         "type": "float"
        },
        {
         "name": "DBT",
         "rawType": "float64",
         "type": "float"
        },
        {
         "name": "Normal_Temp",
         "rawType": "float64",
         "type": "float"
        },
        {
         "name": "Heatwave",
         "rawType": "float64",
         "type": "float"
        },
        {
         "name": "Heatwave_Days",
         "rawType": "int64",
         "type": "integer"
        }
       ],
       "conversionMethod": "pd.DataFrame",
       "ref": "248426a4-2ad9-4135-a77e-8ecc83416a19",
       "rows": [
        [
         "0",
         "2010-01-01",
         "16.0875",
         "19.775",
         "25.725",
         "30.4",
         "0.0",
         "0"
        ],
        [
         "1",
         "2010-01-02",
         "18.200000000000003",
         "21.375",
         "26.975",
         "30.4",
         "0.0",
         "0"
        ],
        [
         "2",
         "2010-01-03",
         "19.7375",
         "22.025",
         "26.3",
         "30.4",
         "0.0",
         "0"
        ],
        [
         "3",
         "2010-01-04",
         "18.025",
         "20.45",
         "24.575",
         "30.4",
         "0.0",
         "0"
        ],
        [
         "4",
         "2010-01-05",
         "18.55",
         "20.575",
         "24.175",
         "30.4",
         "0.0",
         "0"
        ],
        [
         "5",
         "2010-01-06",
         "17.55",
         "20.525",
         "25.575",
         "30.4",
         "0.0",
         "0"
        ],
        [
         "6",
         "2010-01-07",
         "15.475",
         "19.875",
         "26.675",
         "30.4",
         "0.0",
         "0"
        ],
        [
         "7",
         "2010-01-08",
         "15.525",
         "19.55",
         "25.775",
         "30.4",
         "0.0",
         "0"
        ],
        [
         "8",
         "2010-01-09",
         "14.8875",
         "18.925",
         "24.975",
         "30.4",
         "0.0",
         "0"
        ],
        [
         "9",
         "2010-01-10",
         "15.775",
         "19.425",
         "25.2",
         "30.4",
         "0.0",
         "0"
        ],
        [
         "10",
         "2010-01-11",
         "18.7375",
         "21.325",
         "25.925",
         "30.4",
         "0.0",
         "0"
        ],
        [
         "11",
         "2010-01-12",
         "20.5125",
         "22.5",
         "26.275",
         "30.4",
         "0.0",
         "0"
        ],
        [
         "12",
         "2010-01-13",
         "12.5875",
         "17.5",
         "23.975",
         "30.4",
         "0.0",
         "0"
        ],
        [
         "13",
         "2010-01-14",
         "12.9125",
         "17.0",
         "22.65",
         "30.4",
         "0.0",
         "0"
        ],
        [
         "14",
         "2010-01-15",
         "16.5",
         "20.05",
         "25.85",
         "30.4",
         "0.0",
         "0"
        ],
        [
         "15",
         "2010-01-16",
         "17.4625",
         "21.225",
         "27.6",
         "30.4",
         "0.0",
         "0"
        ],
        [
         "16",
         "2010-01-17",
         "14.75",
         "19.15",
         "25.625",
         "30.4",
         "0.0",
         "0"
        ],
        [
         "17",
         "2010-01-18",
         "16.45",
         "19.325",
         "24.0",
         "30.4",
         "0.0",
         "0"
        ],
        [
         "18",
         "2010-01-19",
         "15.575",
         "19.275",
         "25.075",
         "30.4",
         "0.0",
         "0"
        ],
        [
         "19",
         "2010-01-20",
         "14.0375",
         "18.8",
         "25.9",
         "30.4",
         "0.0",
         "0"
        ],
        [
         "20",
         "2010-01-21",
         "14.3",
         "19.05",
         "26.05",
         "30.4",
         "0.0",
         "0"
        ],
        [
         "21",
         "2010-01-22",
         "15.325",
         "19.225",
         "25.15",
         "30.4",
         "0.0",
         "0"
        ],
        [
         "22",
         "2010-01-23",
         "15.3875",
         "19.025",
         "24.45",
         "30.4",
         "0.0",
         "0"
        ],
        [
         "23",
         "2010-01-24",
         "16.8",
         "19.75",
         "24.55",
         "30.4",
         "0.0",
         "0"
        ],
        [
         "24",
         "2010-01-25",
         "15.357142857142858",
         "18.857142857142858",
         "24.2",
         "30.4",
         "0.0",
         "0"
        ],
        [
         "25",
         "2010-01-26",
         "12.725",
         "18.2",
         "25.9",
         "30.4",
         "0.0",
         "0"
        ],
        [
         "26",
         "2010-01-27",
         "13.725",
         "18.45",
         "25.325",
         "30.4",
         "0.0",
         "0"
        ],
        [
         "27",
         "2010-01-28",
         "12.125",
         "17.725",
         "25.275",
         "30.4",
         "0.0",
         "0"
        ],
        [
         "28",
         "2010-01-29",
         "14.025",
         "18.275",
         "24.55",
         "30.4",
         "0.0",
         "0"
        ],
        [
         "29",
         "2010-01-30",
         "14.15",
         "18.875",
         "25.825",
         "30.4",
         "0.0",
         "0"
        ],
        [
         "30",
         "2010-01-31",
         "15.65",
         "19.35",
         "25.175",
         "30.4",
         "0.0",
         "0"
        ],
        [
         "31",
         "2010-02-01",
         "18.2",
         "20.725",
         "25.175",
         "31.1",
         "0.0",
         "0"
        ],
        [
         "32",
         "2010-02-02",
         "18.9875",
         "21.25",
         "25.35",
         "31.1",
         "0.0",
         "0"
        ],
        [
         "33",
         "2010-02-03",
         "18.8625",
         "20.725",
         "24.1",
         "31.1",
         "0.0",
         "0"
        ],
        [
         "34",
         "2010-02-04",
         "19.05",
         "20.75",
         "23.875",
         "31.1",
         "0.0",
         "0"
        ],
        [
         "35",
         "2010-02-05",
         "20.325",
         "21.7",
         "24.375",
         "31.1",
         "0.0",
         "0"
        ],
        [
         "36",
         "2010-02-06",
         "20.375",
         "22.35",
         "26.275",
         "31.1",
         "0.0",
         "0"
        ],
        [
         "37",
         "2010-02-07",
         "19.5125",
         "21.875",
         "26.425",
         "31.1",
         "0.0",
         "0"
        ],
        [
         "38",
         "2010-02-08",
         "21.525",
         "22.7",
         "25.1",
         "31.1",
         "0.0",
         "0"
        ],
        [
         "39",
         "2010-02-09",
         "21.25",
         "22.575",
         "25.275",
         "31.1",
         "0.0",
         "0"
        ],
        [
         "40",
         "2010-02-10",
         "19.475",
         "21.45",
         "24.975",
         "31.1",
         "0.0",
         "0"
        ],
        [
         "41",
         "2010-02-11",
         "17.4625",
         "19.975",
         "24.225",
         "31.1",
         "0.0",
         "0"
        ],
        [
         "42",
         "2010-02-12",
         "18.1375",
         "20.45",
         "24.425",
         "31.1",
         "0.0",
         "0"
        ],
        [
         "43",
         "2010-02-13",
         "14.925",
         "18.775",
         "24.35",
         "31.1",
         "0.0",
         "0"
        ],
        [
         "44",
         "2010-02-14",
         "12.5125",
         "17.85",
         "25.1",
         "31.1",
         "0.0",
         "0"
        ],
        [
         "45",
         "2010-02-15",
         "12.525",
         "17.925",
         "25.3",
         "31.1",
         "0.0",
         "0"
        ],
        [
         "46",
         "2010-02-16",
         "10.5875",
         "17.1",
         "25.4",
         "31.1",
         "0.0",
         "0"
        ],
        [
         "47",
         "2010-02-17",
         "12.25",
         "18.15",
         "25.975",
         "31.1",
         "0.0",
         "0"
        ],
        [
         "48",
         "2010-02-18",
         "15.4625",
         "19.075",
         "24.7625",
         "31.1",
         "0.0",
         "0"
        ],
        [
         "49",
         "2010-02-19",
         "15.9875",
         "19.35",
         "24.575",
         "31.1",
         "0.0",
         "0"
        ]
       ],
       "shape": {
        "columns": 7,
        "rows": 5479
       }
      },
      "text/html": [
       "<div>\n",
       "<style scoped>\n",
       "    .dataframe tbody tr th:only-of-type {\n",
       "        vertical-align: middle;\n",
       "    }\n",
       "\n",
       "    .dataframe tbody tr th {\n",
       "        vertical-align: top;\n",
       "    }\n",
       "\n",
       "    .dataframe thead th {\n",
       "        text-align: right;\n",
       "    }\n",
       "</style>\n",
       "<table border=\"1\" class=\"dataframe\">\n",
       "  <thead>\n",
       "    <tr style=\"text-align: right;\">\n",
       "      <th></th>\n",
       "      <th>DATE</th>\n",
       "      <th>DPT</th>\n",
       "      <th>WBT</th>\n",
       "      <th>DBT</th>\n",
       "      <th>Normal_Temp</th>\n",
       "      <th>Heatwave</th>\n",
       "      <th>Heatwave_Days</th>\n",
       "    </tr>\n",
       "  </thead>\n",
       "  <tbody>\n",
       "    <tr>\n",
       "      <th>0</th>\n",
       "      <td>2010-01-01</td>\n",
       "      <td>16.0875</td>\n",
       "      <td>19.775</td>\n",
       "      <td>25.725000</td>\n",
       "      <td>30.4</td>\n",
       "      <td>0.0</td>\n",
       "      <td>0</td>\n",
       "    </tr>\n",
       "    <tr>\n",
       "      <th>1</th>\n",
       "      <td>2010-01-02</td>\n",
       "      <td>18.2000</td>\n",
       "      <td>21.375</td>\n",
       "      <td>26.975000</td>\n",
       "      <td>30.4</td>\n",
       "      <td>0.0</td>\n",
       "      <td>0</td>\n",
       "    </tr>\n",
       "    <tr>\n",
       "      <th>2</th>\n",
       "      <td>2010-01-03</td>\n",
       "      <td>19.7375</td>\n",
       "      <td>22.025</td>\n",
       "      <td>26.300000</td>\n",
       "      <td>30.4</td>\n",
       "      <td>0.0</td>\n",
       "      <td>0</td>\n",
       "    </tr>\n",
       "    <tr>\n",
       "      <th>3</th>\n",
       "      <td>2010-01-04</td>\n",
       "      <td>18.0250</td>\n",
       "      <td>20.450</td>\n",
       "      <td>24.575000</td>\n",
       "      <td>30.4</td>\n",
       "      <td>0.0</td>\n",
       "      <td>0</td>\n",
       "    </tr>\n",
       "    <tr>\n",
       "      <th>4</th>\n",
       "      <td>2010-01-05</td>\n",
       "      <td>18.5500</td>\n",
       "      <td>20.575</td>\n",
       "      <td>24.175000</td>\n",
       "      <td>30.4</td>\n",
       "      <td>0.0</td>\n",
       "      <td>0</td>\n",
       "    </tr>\n",
       "    <tr>\n",
       "      <th>...</th>\n",
       "      <td>...</td>\n",
       "      <td>...</td>\n",
       "      <td>...</td>\n",
       "      <td>...</td>\n",
       "      <td>...</td>\n",
       "      <td>...</td>\n",
       "      <td>...</td>\n",
       "    </tr>\n",
       "    <tr>\n",
       "      <th>5474</th>\n",
       "      <td>2024-12-27</td>\n",
       "      <td>13.4625</td>\n",
       "      <td>27.400</td>\n",
       "      <td>21.847186</td>\n",
       "      <td>31.9</td>\n",
       "      <td>0.0</td>\n",
       "      <td>0</td>\n",
       "    </tr>\n",
       "    <tr>\n",
       "      <th>5475</th>\n",
       "      <td>2024-12-28</td>\n",
       "      <td>13.4625</td>\n",
       "      <td>27.400</td>\n",
       "      <td>21.261927</td>\n",
       "      <td>31.9</td>\n",
       "      <td>0.0</td>\n",
       "      <td>0</td>\n",
       "    </tr>\n",
       "    <tr>\n",
       "      <th>5476</th>\n",
       "      <td>2024-12-29</td>\n",
       "      <td>13.4625</td>\n",
       "      <td>27.400</td>\n",
       "      <td>21.481941</td>\n",
       "      <td>31.9</td>\n",
       "      <td>0.0</td>\n",
       "      <td>0</td>\n",
       "    </tr>\n",
       "    <tr>\n",
       "      <th>5477</th>\n",
       "      <td>2024-12-30</td>\n",
       "      <td>13.4625</td>\n",
       "      <td>27.400</td>\n",
       "      <td>21.161551</td>\n",
       "      <td>31.9</td>\n",
       "      <td>0.0</td>\n",
       "      <td>0</td>\n",
       "    </tr>\n",
       "    <tr>\n",
       "      <th>5478</th>\n",
       "      <td>2024-12-31</td>\n",
       "      <td>13.4625</td>\n",
       "      <td>27.400</td>\n",
       "      <td>21.347448</td>\n",
       "      <td>31.9</td>\n",
       "      <td>0.0</td>\n",
       "      <td>0</td>\n",
       "    </tr>\n",
       "  </tbody>\n",
       "</table>\n",
       "<p>5479 rows × 7 columns</p>\n",
       "</div>"
      ],
      "text/plain": [
       "            DATE      DPT     WBT        DBT  Normal_Temp  Heatwave  \\\n",
       "0     2010-01-01  16.0875  19.775  25.725000         30.4       0.0   \n",
       "1     2010-01-02  18.2000  21.375  26.975000         30.4       0.0   \n",
       "2     2010-01-03  19.7375  22.025  26.300000         30.4       0.0   \n",
       "3     2010-01-04  18.0250  20.450  24.575000         30.4       0.0   \n",
       "4     2010-01-05  18.5500  20.575  24.175000         30.4       0.0   \n",
       "...          ...      ...     ...        ...          ...       ...   \n",
       "5474  2024-12-27  13.4625  27.400  21.847186         31.9       0.0   \n",
       "5475  2024-12-28  13.4625  27.400  21.261927         31.9       0.0   \n",
       "5476  2024-12-29  13.4625  27.400  21.481941         31.9       0.0   \n",
       "5477  2024-12-30  13.4625  27.400  21.161551         31.9       0.0   \n",
       "5478  2024-12-31  13.4625  27.400  21.347448         31.9       0.0   \n",
       "\n",
       "      Heatwave_Days  \n",
       "0                 0  \n",
       "1                 0  \n",
       "2                 0  \n",
       "3                 0  \n",
       "4                 0  \n",
       "...             ...  \n",
       "5474              0  \n",
       "5475              0  \n",
       "5476              0  \n",
       "5477              0  \n",
       "5478              0  \n",
       "\n",
       "[5479 rows x 7 columns]"
      ]
     },
     "execution_count": 9,
     "metadata": {},
     "output_type": "execute_result"
    }
   ],
   "source": [
    "df"
   ]
  },
  {
   "cell_type": "code",
   "execution_count": 10,
   "metadata": {},
   "outputs": [
    {
     "data": {
      "text/plain": [
       "DATE             0\n",
       "DPT              0\n",
       "WBT              0\n",
       "DBT              0\n",
       "Normal_Temp      0\n",
       "Heatwave         0\n",
       "Heatwave_Days    0\n",
       "dtype: int64"
      ]
     },
     "execution_count": 10,
     "metadata": {},
     "output_type": "execute_result"
    }
   ],
   "source": [
    "df.isnull().sum()"
   ]
  },
  {
   "cell_type": "code",
   "execution_count": 11,
   "metadata": {},
   "outputs": [
    {
     "data": {
      "text/plain": [
       "Heatwave_Days\n",
       "0    5417\n",
       "1      62\n",
       "Name: count, dtype: int64"
      ]
     },
     "execution_count": 11,
     "metadata": {},
     "output_type": "execute_result"
    }
   ],
   "source": [
    "heatwave_counts = df['Heatwave_Days'].value_counts()\n",
    "heatwave_counts"
   ]
  },
  {
   "cell_type": "code",
   "execution_count": 12,
   "metadata": {},
   "outputs": [],
   "source": [
    "target_col = ['Heatwave_Days']"
   ]
  },
  {
   "cell_type": "code",
   "execution_count": 13,
   "metadata": {},
   "outputs": [],
   "source": [
    "features = ['DPT', 'WBT', 'DBT', 'Normal_Temp']\n",
    "target = ['Heatwave_Days']\n",
    "\n",
    "scaler = MinMaxScaler()\n",
    "df[features] = scaler.fit_transform(df[features])"
   ]
  },
  {
   "cell_type": "code",
   "execution_count": 14,
   "metadata": {},
   "outputs": [],
   "source": [
    "# Convert to sequences for LSTM\n",
    "sequence_length = 10\n",
    "X, y = [], []\n",
    "for i in range(len(df) - sequence_length):\n",
    "    X.append(df[features].iloc[i:i+sequence_length].values)\n",
    "    y.append(df[target].iloc[i+sequence_length])\n",
    "X, y = np.array(X), np.array(y)"
   ]
  },
  {
   "cell_type": "code",
   "execution_count": 15,
   "metadata": {},
   "outputs": [
    {
     "data": {
      "text/plain": [
       "array([[0],\n",
       "       [0],\n",
       "       [0],\n",
       "       ...,\n",
       "       [0],\n",
       "       [0],\n",
       "       [0]], dtype=int64)"
      ]
     },
     "execution_count": 15,
     "metadata": {},
     "output_type": "execute_result"
    }
   ],
   "source": [
    "y"
   ]
  },
  {
   "cell_type": "code",
   "execution_count": 16,
   "metadata": {},
   "outputs": [],
   "source": [
    "kfold = StratifiedKFold(n_splits=5, shuffle=True, random_state=42)\n",
    "fold_no = 1\n",
    "accuracies = []\n",
    "\n",
    "for train_idx, test_idx in kfold.split(X, y):\n",
    "    X_train, X_test = X[train_idx], X[test_idx]\n",
    "    y_train, y_test = y[train_idx], y[test_idx]"
   ]
  },
  {
   "cell_type": "code",
   "execution_count": 17,
   "metadata": {},
   "outputs": [
    {
     "name": "stderr",
     "output_type": "stream",
     "text": [
      "c:\\Users\\LaukikS\\anaconda3\\envs\\dm-env\\lib\\site-packages\\keras\\src\\layers\\convolutional\\base_conv.py:107: UserWarning: Do not pass an `input_shape`/`input_dim` argument to a layer. When using Sequential models, prefer using an `Input(shape)` object as the first layer in the model instead.\n",
      "  super().__init__(activity_regularizer=activity_regularizer, **kwargs)\n"
     ]
    }
   ],
   "source": [
    "model = Sequential([\n",
    "        Conv1D(filters=64, kernel_size=3, activation='relu', input_shape=(sequence_length, len(features))),\n",
    "        MaxPooling1D(pool_size=2),\n",
    "        LSTM(50, return_sequences=True),\n",
    "        LSTM(50),\n",
    "        Dense(50, activation='relu'),\n",
    "        Dropout(0.5),\n",
    "        Dense(1, activation='sigmoid')\n",
    "    ])"
   ]
  },
  {
   "cell_type": "code",
   "execution_count": 18,
   "metadata": {},
   "outputs": [],
   "source": [
    "model.compile(optimizer='adam', loss='binary_crossentropy', metrics=['accuracy'])\n"
   ]
  },
  {
   "cell_type": "code",
   "execution_count": 19,
   "metadata": {},
   "outputs": [
    {
     "name": "stdout",
     "output_type": "stream",
     "text": [
      "Epoch 1/20\n",
      "\u001b[1m137/137\u001b[0m \u001b[32m━━━━━━━━━━━━━━━━━━━━\u001b[0m\u001b[37m\u001b[0m \u001b[1m5s\u001b[0m 9ms/step - accuracy: 0.9769 - loss: 0.2475 - val_accuracy: 0.9890 - val_loss: 0.0640\n",
      "Epoch 2/20\n",
      "\u001b[1m137/137\u001b[0m \u001b[32m━━━━━━━━━━━━━━━━━━━━\u001b[0m\u001b[37m\u001b[0m \u001b[1m1s\u001b[0m 5ms/step - accuracy: 0.9916 - loss: 0.0573 - val_accuracy: 0.9890 - val_loss: 0.0643\n",
      "Epoch 3/20\n",
      "\u001b[1m137/137\u001b[0m \u001b[32m━━━━━━━━━━━━━━━━━━━━\u001b[0m\u001b[37m\u001b[0m \u001b[1m1s\u001b[0m 6ms/step - accuracy: 0.9867 - loss: 0.0808 - val_accuracy: 0.9890 - val_loss: 0.0622\n",
      "Epoch 4/20\n",
      "\u001b[1m137/137\u001b[0m \u001b[32m━━━━━━━━━━━━━━━━━━━━\u001b[0m\u001b[37m\u001b[0m \u001b[1m1s\u001b[0m 7ms/step - accuracy: 0.9891 - loss: 0.0663 - val_accuracy: 0.9890 - val_loss: 0.0598\n",
      "Epoch 5/20\n",
      "\u001b[1m137/137\u001b[0m \u001b[32m━━━━━━━━━━━━━━━━━━━━\u001b[0m\u001b[37m\u001b[0m \u001b[1m1s\u001b[0m 7ms/step - accuracy: 0.9878 - loss: 0.0739 - val_accuracy: 0.9890 - val_loss: 0.0603\n",
      "Epoch 6/20\n",
      "\u001b[1m137/137\u001b[0m \u001b[32m━━━━━━━━━━━━━━━━━━━━\u001b[0m\u001b[37m\u001b[0m \u001b[1m1s\u001b[0m 7ms/step - accuracy: 0.9894 - loss: 0.0660 - val_accuracy: 0.9890 - val_loss: 0.0597\n",
      "Epoch 7/20\n",
      "\u001b[1m137/137\u001b[0m \u001b[32m━━━━━━━━━━━━━━━━━━━━\u001b[0m\u001b[37m\u001b[0m \u001b[1m1s\u001b[0m 7ms/step - accuracy: 0.9876 - loss: 0.0706 - val_accuracy: 0.9890 - val_loss: 0.0635\n",
      "Epoch 8/20\n",
      "\u001b[1m137/137\u001b[0m \u001b[32m━━━━━━━━━━━━━━━━━━━━\u001b[0m\u001b[37m\u001b[0m \u001b[1m1s\u001b[0m 7ms/step - accuracy: 0.9888 - loss: 0.0710 - val_accuracy: 0.9890 - val_loss: 0.0597\n",
      "Epoch 9/20\n",
      "\u001b[1m137/137\u001b[0m \u001b[32m━━━━━━━━━━━━━━━━━━━━\u001b[0m\u001b[37m\u001b[0m \u001b[1m1s\u001b[0m 8ms/step - accuracy: 0.9861 - loss: 0.0793 - val_accuracy: 0.9890 - val_loss: 0.0640\n",
      "Epoch 10/20\n",
      "\u001b[1m137/137\u001b[0m \u001b[32m━━━━━━━━━━━━━━━━━━━━\u001b[0m\u001b[37m\u001b[0m \u001b[1m1s\u001b[0m 7ms/step - accuracy: 0.9897 - loss: 0.0626 - val_accuracy: 0.9890 - val_loss: 0.0588\n",
      "Epoch 11/20\n",
      "\u001b[1m137/137\u001b[0m \u001b[32m━━━━━━━━━━━━━━━━━━━━\u001b[0m\u001b[37m\u001b[0m \u001b[1m1s\u001b[0m 6ms/step - accuracy: 0.9887 - loss: 0.0683 - val_accuracy: 0.9890 - val_loss: 0.0577\n",
      "Epoch 12/20\n",
      "\u001b[1m137/137\u001b[0m \u001b[32m━━━━━━━━━━━━━━━━━━━━\u001b[0m\u001b[37m\u001b[0m \u001b[1m1s\u001b[0m 6ms/step - accuracy: 0.9870 - loss: 0.0704 - val_accuracy: 0.9890 - val_loss: 0.0573\n",
      "Epoch 13/20\n",
      "\u001b[1m137/137\u001b[0m \u001b[32m━━━━━━━━━━━━━━━━━━━━\u001b[0m\u001b[37m\u001b[0m \u001b[1m1s\u001b[0m 7ms/step - accuracy: 0.9880 - loss: 0.0710 - val_accuracy: 0.9890 - val_loss: 0.0569\n",
      "Epoch 14/20\n",
      "\u001b[1m137/137\u001b[0m \u001b[32m━━━━━━━━━━━━━━━━━━━━\u001b[0m\u001b[37m\u001b[0m \u001b[1m1s\u001b[0m 6ms/step - accuracy: 0.9867 - loss: 0.0737 - val_accuracy: 0.9890 - val_loss: 0.0601\n",
      "Epoch 15/20\n",
      "\u001b[1m137/137\u001b[0m \u001b[32m━━━━━━━━━━━━━━━━━━━━\u001b[0m\u001b[37m\u001b[0m \u001b[1m1s\u001b[0m 7ms/step - accuracy: 0.9876 - loss: 0.0724 - val_accuracy: 0.9890 - val_loss: 0.0546\n",
      "Epoch 16/20\n",
      "\u001b[1m137/137\u001b[0m \u001b[32m━━━━━━━━━━━━━━━━━━━━\u001b[0m\u001b[37m\u001b[0m \u001b[1m1s\u001b[0m 6ms/step - accuracy: 0.9881 - loss: 0.0660 - val_accuracy: 0.9890 - val_loss: 0.0654\n",
      "Epoch 17/20\n",
      "\u001b[1m137/137\u001b[0m \u001b[32m━━━━━━━━━━━━━━━━━━━━\u001b[0m\u001b[37m\u001b[0m \u001b[1m1s\u001b[0m 7ms/step - accuracy: 0.9882 - loss: 0.0707 - val_accuracy: 0.9890 - val_loss: 0.0551\n",
      "Epoch 18/20\n",
      "\u001b[1m137/137\u001b[0m \u001b[32m━━━━━━━━━━━━━━━━━━━━\u001b[0m\u001b[37m\u001b[0m \u001b[1m1s\u001b[0m 6ms/step - accuracy: 0.9918 - loss: 0.0539 - val_accuracy: 0.9890 - val_loss: 0.0555\n",
      "Epoch 19/20\n",
      "\u001b[1m137/137\u001b[0m \u001b[32m━━━━━━━━━━━━━━━━━━━━\u001b[0m\u001b[37m\u001b[0m \u001b[1m1s\u001b[0m 6ms/step - accuracy: 0.9899 - loss: 0.0586 - val_accuracy: 0.9890 - val_loss: 0.0600\n",
      "Epoch 20/20\n",
      "\u001b[1m137/137\u001b[0m \u001b[32m━━━━━━━━━━━━━━━━━━━━\u001b[0m\u001b[37m\u001b[0m \u001b[1m1s\u001b[0m 7ms/step - accuracy: 0.9855 - loss: 0.0796 - val_accuracy: 0.9890 - val_loss: 0.0560\n"
     ]
    },
    {
     "data": {
      "text/plain": [
       "<keras.src.callbacks.history.History at 0x2849b322820>"
      ]
     },
     "execution_count": 19,
     "metadata": {},
     "output_type": "execute_result"
    }
   ],
   "source": [
    "model.fit(X_train, y_train, epochs=20, batch_size=32, validation_data=(X_test, y_test), verbose=1)"
   ]
  },
  {
   "cell_type": "code",
   "execution_count": 20,
   "metadata": {},
   "outputs": [
    {
     "name": "stdout",
     "output_type": "stream",
     "text": [
      "\u001b[1m35/35\u001b[0m \u001b[32m━━━━━━━━━━━━━━━━━━━━\u001b[0m\u001b[37m\u001b[0m \u001b[1m0s\u001b[0m 3ms/step - accuracy: 0.9886 - loss: 0.0572\n",
      "Fold 1 Accuracy: 0.9890\n",
      "Average Cross-Validation Accuracy: 0.9890\n"
     ]
    }
   ],
   "source": [
    "loss, accuracy = model.evaluate(X_test, y_test)\n",
    "accuracies.append(accuracy)\n",
    "print(f\"Fold {fold_no} Accuracy: {accuracy:.4f}\")\n",
    "fold_no += 1\n",
    "\n",
    "# Print average accuracy\n",
    "print(f\"Average Cross-Validation Accuracy: {np.mean(accuracies):.4f}\")\n"
   ]
  },
  {
   "cell_type": "code",
   "execution_count": 22,
   "metadata": {},
   "outputs": [
    {
     "name": "stderr",
     "output_type": "stream",
     "text": [
      "WARNING:absl:You are saving your model as an HDF5 file via `model.save()` or `keras.saving.save_model(model)`. This file format is considered legacy. We recommend using instead the native Keras format, e.g. `model.save('my_model.keras')` or `keras.saving.save_model(model, 'my_model.keras')`. \n"
     ]
    },
    {
     "name": "stdout",
     "output_type": "stream",
     "text": [
      "model saved\n"
     ]
    }
   ],
   "source": [
    "model.save(\"lstm_cnn_model.h5\")  # You can also use .keras format\n",
    "print(\"model saved\")"
   ]
  },
  {
   "cell_type": "code",
   "execution_count": 24,
   "metadata": {},
   "outputs": [],
   "source": [
    "df = pd.read_csv(r\"data\\unlabelled\\santacruz_combined_normal.csv\")\n"
   ]
  },
  {
   "cell_type": "code",
   "execution_count": 25,
   "metadata": {},
   "outputs": [],
   "source": [
    "df.columns = df.columns.str.strip()\n",
    "\n",
    "# If there's no 'Month' column, extract from a 'Date' column (assuming format: YYYY-MM-DD)\n",
    "if 'MN' not in df.columns:\n",
    "    if 'DT' in df.columns:\n",
    "        df['DT'] = pd.to_datetime(df['Date'])\n",
    "        df['MN'] = df['Date'].dt.month\n",
    "    else:\n",
    "        raise ValueError(\"Month or Date column not found.\")"
   ]
  },
  {
   "cell_type": "code",
   "execution_count": 28,
   "metadata": {},
   "outputs": [],
   "source": [
    "df['Threshold'] = df['Normal_Temp'] + 4.5\n"
   ]
  },
  {
   "cell_type": "code",
   "execution_count": 29,
   "metadata": {},
   "outputs": [],
   "source": [
    "def is_heatwave(dbt, threshold):\n",
    "    return 1 if dbt >= 37.0 or dbt >= threshold else 0\n",
    "\n",
    "df['Heatwave'] = df.apply(lambda row: is_heatwave(row['DBT'], row['Threshold']), axis=1)\n"
   ]
  },
  {
   "cell_type": "code",
   "execution_count": 30,
   "metadata": {},
   "outputs": [],
   "source": [
    "df['Heatwave_Days'] = 0\n",
    "consecutive_days = (df['Heatwave'] == 1) & (df['Heatwave'].shift(1) == 1)\n",
    "df.loc[consecutive_days | consecutive_days.shift(-1, fill_value=False), 'Heatwave_Days'] = 1"
   ]
  },
  {
   "cell_type": "code",
   "execution_count": 32,
   "metadata": {},
   "outputs": [],
   "source": [
    "output_path = r'data/labelled/santacruz_with_heatwaves.csv'\n",
    "df.to_csv(output_path, index=False)"
   ]
  },
  {
   "cell_type": "code",
   "execution_count": 33,
   "metadata": {},
   "outputs": [
    {
     "data": {
      "text/plain": [
       "Heatwave_Days\n",
       "0    43530\n",
       "1       95\n",
       "Name: count, dtype: int64"
      ]
     },
     "execution_count": 33,
     "metadata": {},
     "output_type": "execute_result"
    }
   ],
   "source": [
    "heatwave_counts_final = df['Heatwave_Days'].value_counts()\n",
    "heatwave_counts_final"
   ]
  },
  {
   "cell_type": "code",
   "execution_count": null,
   "metadata": {},
   "outputs": [],
   "source": []
  },
  {
   "cell_type": "code",
   "execution_count": null,
   "metadata": {},
   "outputs": [],
   "source": []
  }
 ],
 "metadata": {
  "kernelspec": {
   "display_name": "dm-env",
   "language": "python",
   "name": "python3"
  },
  "language_info": {
   "codemirror_mode": {
    "name": "ipython",
    "version": 3
   },
   "file_extension": ".py",
   "mimetype": "text/x-python",
   "name": "python",
   "nbconvert_exporter": "python",
   "pygments_lexer": "ipython3",
   "version": "3.9.21"
  }
 },
 "nbformat": 4,
 "nbformat_minor": 2
}
