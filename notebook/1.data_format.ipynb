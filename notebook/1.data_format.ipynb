{
 "cells": [
  {
   "cell_type": "code",
   "execution_count": null,
   "metadata": {},
   "outputs": [],
   "source": [
    "import pandas as pd\n",
    "import numpy as np\n",
    "import seaborn as sns\n",
    "import matplotlib.pyplot as mlt\n",
    "import os \n",
    "import sys"
   ]
  },
  {
   "cell_type": "code",
   "execution_count": null,
   "metadata": {},
   "outputs": [],
   "source": [
    "file_paths = {\n",
    "    \"max_temperature\": \"data/2024/attributes/max_temperature.csv\",\n",
    "    \"mean_temperature\": \"data/2024/attributes/mean_temperature.csv\",\n",
    "    # \"max_precipitation\": \"data/2024/attributes/max_precipitation.csv\",\n",
    "    # \"mean_precipitation\": \"data/2024/attributes/mean_precipitation.csv\",\n",
    "    # \"mslp\": \"data/2024/attributes/mslp.csv\",\n",
    "}\n",
    "\n",
    "# Initialize an empty list to store DataFrames\n",
    "dfs = []\n",
    "\n",
    "# Read each CSV and extract relevant columns\n",
    "for name, path in file_paths.items():\n",
    "    df = pd.read_csv(path)\n",
    "    # Identify unique columns (excluding common ones)\n",
    "    unique_cols = [col for col in df.columns if col not in ['valid_time', 'latitude', 'longitude']]\n",
    "    if unique_cols:\n",
    "        unique_col = unique_cols[0]  # Assuming one unique column per file\n",
    "        df = df[['valid_time', 'latitude', 'longitude', unique_col]]\n",
    "        df.rename(columns={unique_col: name}, inplace=True)  # Rename to file-specific name\n",
    "        dfs.append(df)\n",
    "\n",
    "# Merge all DataFrames on common columns\n",
    "merged_df = dfs[0]\n",
    "for df in dfs[1:]:\n",
    "    merged_df = pd.merge(merged_df, df, on=['valid_time', 'latitude', 'longitude'], how='outer')\n"
   ]
  },
  {
   "cell_type": "code",
   "execution_count": null,
   "metadata": {},
   "outputs": [],
   "source": [
    "merged_df"
   ]
  },
  {
   "cell_type": "code",
   "execution_count": null,
   "metadata": {},
   "outputs": [],
   "source": [
    "# Save to a new CSV file\n",
    "if os.path.exists(\"data/2024/temp/temp_data.csv\"):\n",
    "    print(\"File alreay exists\")\n",
    "else:\n",
    "    merged_df.to_csv(\"data/2024/temp/temp_data.csv\", index=False)\n",
    "    print(\"File created\")\n"
   ]
  },
  {
   "cell_type": "code",
   "execution_count": null,
   "metadata": {},
   "outputs": [],
   "source": [
    "os.chdir(\"..\")\n",
    "os.getcwd()"
   ]
  },
  {
   "cell_type": "code",
   "execution_count": null,
   "metadata": {},
   "outputs": [],
   "source": [
    "df_imd  = pd.read_csv(\"imd_data\\complete_15_years.csv\")"
   ]
  },
  {
   "cell_type": "code",
   "execution_count": null,
   "metadata": {},
   "outputs": [],
   "source": [
    "df_imd"
   ]
  },
  {
   "cell_type": "code",
   "execution_count": null,
   "metadata": {},
   "outputs": [],
   "source": [
    "df_1 = df_imd[['YEAR', 'MN', 'HR', 'DT', 'MSLP', 'DBT','WBT','DPT']]"
   ]
  },
  {
   "cell_type": "code",
   "execution_count": null,
   "metadata": {},
   "outputs": [],
   "source": [
    "df_1"
   ]
  },
  {
   "cell_type": "code",
   "execution_count": null,
   "metadata": {},
   "outputs": [],
   "source": [
    "df_1.isnull().sum()"
   ]
  },
  {
   "cell_type": "code",
   "execution_count": null,
   "metadata": {},
   "outputs": [],
   "source": [
    "wbt = df_1[['DBT','WBT','DPT']]\n",
    "wbt"
   ]
  },
  {
   "cell_type": "code",
   "execution_count": null,
   "metadata": {},
   "outputs": [],
   "source": [
    "wbt.isnull().sum()"
   ]
  },
  {
   "cell_type": "code",
   "execution_count": null,
   "metadata": {},
   "outputs": [],
   "source": [
    "wbt1 = wbt.interpolate() \n",
    "wbt1"
   ]
  },
  {
   "cell_type": "code",
   "execution_count": null,
   "metadata": {},
   "outputs": [],
   "source": [
    "wbt1.isnull().sum()"
   ]
  },
  {
   "cell_type": "code",
   "execution_count": null,
   "metadata": {},
   "outputs": [],
   "source": [
    "df_1.drop()"
   ]
  },
  {
   "cell_type": "code",
   "execution_count": null,
   "metadata": {},
   "outputs": [],
   "source": [
    "df_1"
   ]
  },
  {
   "cell_type": "code",
   "execution_count": null,
   "metadata": {},
   "outputs": [],
   "source": []
  },
  {
   "cell_type": "code",
   "execution_count": null,
   "metadata": {},
   "outputs": [],
   "source": []
  },
  {
   "cell_type": "code",
   "execution_count": null,
   "metadata": {},
   "outputs": [],
   "source": [
    "if os.path.exists(\"notebook\\data\\processed_imd.csv\"):\n",
    "    print(\"processed data exists\")\n",
    "else:\n",
    "    df_1.to_csv(\"notebook\\data\\processed_imd.csv\", index= False)\n",
    "    print(\"processed data created\")"
   ]
  }
 ],
 "metadata": {
  "kernelspec": {
   "display_name": "dm-env",
   "language": "python",
   "name": "python3"
  },
  "language_info": {
   "codemirror_mode": {
    "name": "ipython",
    "version": 3
   },
   "file_extension": ".py",
   "mimetype": "text/x-python",
   "name": "python",
   "nbconvert_exporter": "python",
   "pygments_lexer": "ipython3",
   "version": "3.9.21"
  }
 },
 "nbformat": 4,
 "nbformat_minor": 2
}
