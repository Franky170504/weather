{
 "cells": [
  {
   "cell_type": "code",
   "execution_count": 47,
   "metadata": {},
   "outputs": [],
   "source": [
    "import pandas as pd\n",
    "import numpy as np\n",
    "import seaborn as sns\n",
    "import matplotlib.pyplot as mlt\n",
    "import os \n",
    "import sys"
   ]
  },
  {
   "cell_type": "code",
   "execution_count": 48,
   "metadata": {},
   "outputs": [],
   "source": [
    "file_paths = {\n",
    "    \"max_temperature\": \"data/2024/attributes/max_temperature.csv\",\n",
    "    \"mean_temperature\": \"data/2024/attributes/mean_temperature.csv\",\n",
    "    # \"max_precipitation\": \"data/2024/attributes/max_precipitation.csv\",\n",
    "    # \"mean_precipitation\": \"data/2024/attributes/mean_precipitation.csv\",\n",
    "    # \"mslp\": \"data/2024/attributes/mslp.csv\",\n",
    "}\n",
    "\n",
    "# Initialize an empty list to store DataFrames\n",
    "dfs = []\n",
    "\n",
    "# Read each CSV and extract relevant columns\n",
    "for name, path in file_paths.items():\n",
    "    df = pd.read_csv(path)\n",
    "    # Identify unique columns (excluding common ones)\n",
    "    unique_cols = [col for col in df.columns if col not in ['valid_time', 'latitude', 'longitude']]\n",
    "    if unique_cols:\n",
    "        unique_col = unique_cols[0]  # Assuming one unique column per file\n",
    "        df = df[['valid_time', 'latitude', 'longitude', unique_col]]\n",
    "        df.rename(columns={unique_col: name}, inplace=True)  # Rename to file-specific name\n",
    "        dfs.append(df)\n",
    "\n",
    "# Merge all DataFrames on common columns\n",
    "merged_df = dfs[0]\n",
    "for df in dfs[1:]:\n",
    "    merged_df = pd.merge(merged_df, df, on=['valid_time', 'latitude', 'longitude'], how='outer')\n"
   ]
  },
  {
   "cell_type": "code",
   "execution_count": 49,
   "metadata": {},
   "outputs": [
    {
     "data": {
      "application/vnd.microsoft.datawrangler.viewer.v0+json": {
       "columns": [
        {
         "name": "index",
         "rawType": "int64",
         "type": "integer"
        },
        {
         "name": "valid_time",
         "rawType": "object",
         "type": "string"
        },
        {
         "name": "latitude",
         "rawType": "float64",
         "type": "float"
        },
        {
         "name": "longitude",
         "rawType": "float64",
         "type": "float"
        },
        {
         "name": "max_temperature",
         "rawType": "float64",
         "type": "float"
        },
        {
         "name": "mean_temperature",
         "rawType": "float64",
         "type": "float"
        }
       ],
       "conversionMethod": "pd.DataFrame",
       "ref": "b720c80f-384d-498f-97fb-34e422372b7d",
       "rows": [
        [
         "0",
         "01-01-24",
         "18.8",
         "72.8",
         "300.28345",
         "298.79312"
        ],
        [
         "1",
         "01-01-24",
         "19.05",
         "72.8",
         "300.91122",
         "298.72922"
        ],
        [
         "2",
         "01-02-24",
         "18.8",
         "72.8",
         "298.07544",
         "296.97256"
        ],
        [
         "3",
         "01-02-24",
         "19.05",
         "72.8",
         "298.61383",
         "296.9688"
        ],
        [
         "4",
         "01-03-24",
         "18.8",
         "72.8",
         "300.19815",
         "299.41925"
        ],
        [
         "5",
         "01-03-24",
         "19.05",
         "72.8",
         "300.85364",
         "299.5681"
        ],
        [
         "6",
         "01-04-24",
         "18.8",
         "72.8",
         "302.151",
         "300.6727"
        ],
        [
         "7",
         "01-04-24",
         "19.05",
         "72.8",
         "303.22922",
         "300.935"
        ],
        [
         "8",
         "01-05-24",
         "18.8",
         "72.8",
         "303.05615",
         "302.3444"
        ],
        [
         "9",
         "01-05-24",
         "19.05",
         "72.8",
         "303.93048",
         "302.6805"
        ],
        [
         "10",
         "01-06-24",
         "18.8",
         "72.8",
         "303.91193",
         "302.9686"
        ],
        [
         "11",
         "01-06-24",
         "19.05",
         "72.8",
         "304.38547",
         "303.3207"
        ],
        [
         "12",
         "01-07-24",
         "18.8",
         "72.8",
         "301.85052",
         "301.17105"
        ],
        [
         "13",
         "01-07-24",
         "19.05",
         "72.8",
         "302.2597",
         "301.3173"
        ],
        [
         "14",
         "01-08-24",
         "18.8",
         "72.8",
         "300.61353",
         "299.93164"
        ],
        [
         "15",
         "01-08-24",
         "19.05",
         "72.8",
         "300.95706",
         "300.17984"
        ],
        [
         "16",
         "01-09-24",
         "18.8",
         "72.8",
         "301.09537",
         "300.25974"
        ],
        [
         "17",
         "01-09-24",
         "19.05",
         "72.8",
         "301.52493",
         "300.55698"
        ],
        [
         "18",
         "01-10-24",
         "18.8",
         "72.8",
         "302.4074",
         "301.19742"
        ],
        [
         "19",
         "01-10-24",
         "19.05",
         "72.8",
         "303.2089",
         "301.51254"
        ],
        [
         "20",
         "01-11-24",
         "18.8",
         "72.8",
         "303.03882",
         "302.4567"
        ],
        [
         "21",
         "01-11-24",
         "19.05",
         "72.8",
         "303.78662",
         "302.64603"
        ],
        [
         "22",
         "01-12-24",
         "18.8",
         "72.8",
         "301.2992",
         "298.82047"
        ],
        [
         "23",
         "01-12-24",
         "19.05",
         "72.8",
         "301.44708",
         "298.56006"
        ],
        [
         "24",
         "02-01-24",
         "18.8",
         "72.8",
         "300.1916",
         "298.49875"
        ],
        [
         "25",
         "02-01-24",
         "19.05",
         "72.8",
         "300.74103",
         "298.4006"
        ],
        [
         "26",
         "02-02-24",
         "18.8",
         "72.8",
         "299.16095",
         "297.24063"
        ],
        [
         "27",
         "02-02-24",
         "19.05",
         "72.8",
         "299.80566",
         "297.3367"
        ],
        [
         "28",
         "02-03-24",
         "18.8",
         "72.8",
         "299.56326",
         "298.64584"
        ],
        [
         "29",
         "02-03-24",
         "19.05",
         "72.8",
         "300.02652",
         "298.72867"
        ],
        [
         "30",
         "02-04-24",
         "18.8",
         "72.8",
         "301.23196",
         "300.06802"
        ],
        [
         "31",
         "02-04-24",
         "19.05",
         "72.8",
         "301.77173",
         "300.22287"
        ],
        [
         "32",
         "02-05-24",
         "18.8",
         "72.8",
         "302.7322",
         "301.58856"
        ],
        [
         "33",
         "02-05-24",
         "19.05",
         "72.8",
         "303.15497",
         "301.8137"
        ],
        [
         "34",
         "02-06-24",
         "18.8",
         "72.8",
         "304.10492",
         "303.34943"
        ],
        [
         "35",
         "02-06-24",
         "19.05",
         "72.8",
         "304.63803",
         "303.66592"
        ],
        [
         "36",
         "02-07-24",
         "18.8",
         "72.8",
         "302.41077",
         "301.6562"
        ],
        [
         "37",
         "02-07-24",
         "19.05",
         "72.8",
         "302.60925",
         "301.8655"
        ],
        [
         "38",
         "02-08-24",
         "18.8",
         "72.8",
         "299.77942",
         "299.5955"
        ],
        [
         "39",
         "02-08-24",
         "19.05",
         "72.8",
         "300.28668",
         "299.85654"
        ],
        [
         "40",
         "02-09-24",
         "18.8",
         "72.8",
         "300.7916",
         "300.29648"
        ],
        [
         "41",
         "02-09-24",
         "19.05",
         "72.8",
         "300.98123",
         "300.39407"
        ],
        [
         "42",
         "02-10-24",
         "18.8",
         "72.8",
         "302.15933",
         "301.3527"
        ],
        [
         "43",
         "02-10-24",
         "19.05",
         "72.8",
         "302.62778",
         "301.61383"
        ],
        [
         "44",
         "02-11-24",
         "18.8",
         "72.8",
         "303.8711",
         "302.34384"
        ],
        [
         "45",
         "02-11-24",
         "19.05",
         "72.8",
         "304.5543",
         "302.4847"
        ],
        [
         "46",
         "02-12-24",
         "18.8",
         "72.8",
         "301.66113",
         "299.68118"
        ],
        [
         "47",
         "02-12-24",
         "19.05",
         "72.8",
         "302.4242",
         "299.6453"
        ],
        [
         "48",
         "03-01-24",
         "18.8",
         "72.8",
         "299.84067",
         "298.13846"
        ],
        [
         "49",
         "03-01-24",
         "19.05",
         "72.8",
         "300.2464",
         "297.95554"
        ]
       ],
       "shape": {
        "columns": 5,
        "rows": 732
       }
      },
      "text/html": [
       "<div>\n",
       "<style scoped>\n",
       "    .dataframe tbody tr th:only-of-type {\n",
       "        vertical-align: middle;\n",
       "    }\n",
       "\n",
       "    .dataframe tbody tr th {\n",
       "        vertical-align: top;\n",
       "    }\n",
       "\n",
       "    .dataframe thead th {\n",
       "        text-align: right;\n",
       "    }\n",
       "</style>\n",
       "<table border=\"1\" class=\"dataframe\">\n",
       "  <thead>\n",
       "    <tr style=\"text-align: right;\">\n",
       "      <th></th>\n",
       "      <th>valid_time</th>\n",
       "      <th>latitude</th>\n",
       "      <th>longitude</th>\n",
       "      <th>max_temperature</th>\n",
       "      <th>mean_temperature</th>\n",
       "    </tr>\n",
       "  </thead>\n",
       "  <tbody>\n",
       "    <tr>\n",
       "      <th>0</th>\n",
       "      <td>01-01-24</td>\n",
       "      <td>18.80</td>\n",
       "      <td>72.8</td>\n",
       "      <td>300.28345</td>\n",
       "      <td>298.79312</td>\n",
       "    </tr>\n",
       "    <tr>\n",
       "      <th>1</th>\n",
       "      <td>01-01-24</td>\n",
       "      <td>19.05</td>\n",
       "      <td>72.8</td>\n",
       "      <td>300.91122</td>\n",
       "      <td>298.72922</td>\n",
       "    </tr>\n",
       "    <tr>\n",
       "      <th>2</th>\n",
       "      <td>01-02-24</td>\n",
       "      <td>18.80</td>\n",
       "      <td>72.8</td>\n",
       "      <td>298.07544</td>\n",
       "      <td>296.97256</td>\n",
       "    </tr>\n",
       "    <tr>\n",
       "      <th>3</th>\n",
       "      <td>01-02-24</td>\n",
       "      <td>19.05</td>\n",
       "      <td>72.8</td>\n",
       "      <td>298.61383</td>\n",
       "      <td>296.96880</td>\n",
       "    </tr>\n",
       "    <tr>\n",
       "      <th>4</th>\n",
       "      <td>01-03-24</td>\n",
       "      <td>18.80</td>\n",
       "      <td>72.8</td>\n",
       "      <td>300.19815</td>\n",
       "      <td>299.41925</td>\n",
       "    </tr>\n",
       "    <tr>\n",
       "      <th>...</th>\n",
       "      <td>...</td>\n",
       "      <td>...</td>\n",
       "      <td>...</td>\n",
       "      <td>...</td>\n",
       "      <td>...</td>\n",
       "    </tr>\n",
       "    <tr>\n",
       "      <th>727</th>\n",
       "      <td>31-08-24</td>\n",
       "      <td>19.05</td>\n",
       "      <td>72.8</td>\n",
       "      <td>301.93417</td>\n",
       "      <td>300.67007</td>\n",
       "    </tr>\n",
       "    <tr>\n",
       "      <th>728</th>\n",
       "      <td>31-10-24</td>\n",
       "      <td>18.80</td>\n",
       "      <td>72.8</td>\n",
       "      <td>303.40050</td>\n",
       "      <td>302.30900</td>\n",
       "    </tr>\n",
       "    <tr>\n",
       "      <th>729</th>\n",
       "      <td>31-10-24</td>\n",
       "      <td>19.05</td>\n",
       "      <td>72.8</td>\n",
       "      <td>304.09170</td>\n",
       "      <td>302.54822</td>\n",
       "    </tr>\n",
       "    <tr>\n",
       "      <th>730</th>\n",
       "      <td>31-12-24</td>\n",
       "      <td>18.80</td>\n",
       "      <td>72.8</td>\n",
       "      <td>300.60540</td>\n",
       "      <td>299.00990</td>\n",
       "    </tr>\n",
       "    <tr>\n",
       "      <th>731</th>\n",
       "      <td>31-12-24</td>\n",
       "      <td>19.05</td>\n",
       "      <td>72.8</td>\n",
       "      <td>301.33770</td>\n",
       "      <td>299.07617</td>\n",
       "    </tr>\n",
       "  </tbody>\n",
       "</table>\n",
       "<p>732 rows × 5 columns</p>\n",
       "</div>"
      ],
      "text/plain": [
       "    valid_time  latitude  longitude  max_temperature  mean_temperature\n",
       "0     01-01-24     18.80       72.8        300.28345         298.79312\n",
       "1     01-01-24     19.05       72.8        300.91122         298.72922\n",
       "2     01-02-24     18.80       72.8        298.07544         296.97256\n",
       "3     01-02-24     19.05       72.8        298.61383         296.96880\n",
       "4     01-03-24     18.80       72.8        300.19815         299.41925\n",
       "..         ...       ...        ...              ...               ...\n",
       "727   31-08-24     19.05       72.8        301.93417         300.67007\n",
       "728   31-10-24     18.80       72.8        303.40050         302.30900\n",
       "729   31-10-24     19.05       72.8        304.09170         302.54822\n",
       "730   31-12-24     18.80       72.8        300.60540         299.00990\n",
       "731   31-12-24     19.05       72.8        301.33770         299.07617\n",
       "\n",
       "[732 rows x 5 columns]"
      ]
     },
     "execution_count": 49,
     "metadata": {},
     "output_type": "execute_result"
    }
   ],
   "source": [
    "merged_df"
   ]
  },
  {
   "cell_type": "code",
   "execution_count": 50,
   "metadata": {},
   "outputs": [
    {
     "name": "stdout",
     "output_type": "stream",
     "text": [
      "File created\n"
     ]
    }
   ],
   "source": [
    "# Save to a new CSV file\n",
    "if os.path.exists(\"data/2024/temp/temp_data.csv\"):\n",
    "    print(\"File alreay exists\")\n",
    "else:\n",
    "    merged_df.to_csv(\"data/2024/temp/temp_data.csv\", index=False)\n",
    "    print(\"File created\")\n"
   ]
  }
 ],
 "metadata": {
  "kernelspec": {
   "display_name": "dm-env",
   "language": "python",
   "name": "python3"
  },
  "language_info": {
   "codemirror_mode": {
    "name": "ipython",
    "version": 3
   },
   "file_extension": ".py",
   "mimetype": "text/x-python",
   "name": "python",
   "nbconvert_exporter": "python",
   "pygments_lexer": "ipython3",
   "version": "3.9.21"
  }
 },
 "nbformat": 4,
 "nbformat_minor": 2
}
