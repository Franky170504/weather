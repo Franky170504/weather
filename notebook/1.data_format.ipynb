{
 "cells": [
  {
   "cell_type": "code",
   "execution_count": 1,
   "metadata": {},
   "outputs": [],
   "source": [
    "import pandas as pd\n",
    "import numpy as np\n",
    "import seaborn as sns\n",
    "import matplotlib.pyplot as mlt\n",
    "import os \n",
    "import sys"
   ]
  },
  {
   "cell_type": "code",
   "execution_count": 2,
   "metadata": {},
   "outputs": [
    {
     "data": {
      "text/plain": [
       "'c:\\\\Laukik\\\\EDA\\\\weather\\\\notebook'"
      ]
     },
     "execution_count": 2,
     "metadata": {},
     "output_type": "execute_result"
    }
   ],
   "source": [
    "os.getcwd()"
   ]
  },
  {
   "cell_type": "code",
   "execution_count": 3,
   "metadata": {},
   "outputs": [
    {
     "data": {
      "text/plain": [
       "'c:\\\\Laukik\\\\EDA\\\\weather'"
      ]
     },
     "execution_count": 3,
     "metadata": {},
     "output_type": "execute_result"
    }
   ],
   "source": [
    "os.chdir(\"..\")\n",
    "os.getcwd()"
   ]
  },
  {
   "cell_type": "code",
   "execution_count": null,
   "metadata": {},
   "outputs": [],
   "source": [
    "santacruz_df  = pd.read_csv(\"imd_data\\santacruz_data.csv\")\n",
    "santacruz_df"
   ]
  },
  {
   "cell_type": "code",
   "execution_count": null,
   "metadata": {},
   "outputs": [],
   "source": [
    "required_columns = [\"INDEX\",\"YEAR\", \"HR\", \"DT\", \"MN\", \"DPT\", \"WBT\", \"DBT\", \"SLP\", \"MSLP\", \"RH\", \"DD\", \"FFF\", \"RF\"]"
   ]
  },
  {
   "cell_type": "code",
   "execution_count": null,
   "metadata": {},
   "outputs": [],
   "source": [
    "santacruz_new_columns = santacruz_df[required_columns].copy()\n",
    "santacruz_new_columns"
   ]
  },
  {
   "cell_type": "code",
   "execution_count": null,
   "metadata": {},
   "outputs": [],
   "source": [
    "santacruz_new_columns.info()"
   ]
  },
  {
   "cell_type": "code",
   "execution_count": null,
   "metadata": {},
   "outputs": [],
   "source": [
    "santacruz_new_columns[\"FFF\"] = pd.to_numeric(santacruz_new_columns[\"FFF\"], errors=\"coerce\")\n",
    "santacruz_new_columns[\"DD\"] = pd.to_numeric(santacruz_new_columns[\"DD\"], errors=\"coerce\")"
   ]
  },
  {
   "cell_type": "code",
   "execution_count": null,
   "metadata": {},
   "outputs": [],
   "source": [
    "santacruz_new_columns.isnull().sum()"
   ]
  },
  {
   "cell_type": "code",
   "execution_count": null,
   "metadata": {},
   "outputs": [],
   "source": [
    "santacruz_cleaned = santacruz_new_columns.interpolate()\n",
    "santacruz_cleaned.isnull().sum()"
   ]
  },
  {
   "cell_type": "code",
   "execution_count": null,
   "metadata": {},
   "outputs": [],
   "source": [
    "normals = {\n",
    "    1: 30.4, 2: 31.1, 3: 32.6, 4: 33.0, 5: 33.3, 6: 32.0,\n",
    "    7: 29.9, 8: 29.5, 9: 30.2, 10: 33.1, 11: 33.4, 12: 31.9\n",
    "}\n",
    "santacruz_cleaned.insert(loc=8, column='Normal_Temp', value=santacruz_cleaned['MN'].map(normals))"
   ]
  },
  {
   "cell_type": "code",
   "execution_count": null,
   "metadata": {},
   "outputs": [],
   "source": [
    "santacruz_cleaned"
   ]
  },
  {
   "cell_type": "code",
   "execution_count": null,
   "metadata": {},
   "outputs": [],
   "source": [
    "if os.path.exists(r\"notebook\\data\\unlabelled\\santacruz_normals.csv\"):\n",
    "    print(\"processed data exists\")\n",
    "else:\n",
    "    santacruz_cleaned.to_csv(r\"notebook\\data\\unlabelled\\santacruz_normals.csv\", index= False)\n",
    "    print(\"processed data created\")"
   ]
  },
  {
   "cell_type": "code",
   "execution_count": null,
   "metadata": {},
   "outputs": [],
   "source": [
    "santacruz_cleaned"
   ]
  },
  {
   "cell_type": "code",
   "execution_count": 16,
   "metadata": {},
   "outputs": [],
   "source": [
    "df = pd.read_csv(r\"notebook\\data\\unlabelled\\combined_data.csv\")"
   ]
  },
  {
   "cell_type": "code",
   "execution_count": 17,
   "metadata": {},
   "outputs": [
    {
     "data": {
      "application/vnd.microsoft.datawrangler.viewer.v0+json": {
       "columns": [
        {
         "name": "index",
         "rawType": "int64",
         "type": "integer"
        },
        {
         "name": "YEAR",
         "rawType": "int64",
         "type": "integer"
        },
        {
         "name": "HR",
         "rawType": "int64",
         "type": "integer"
        },
        {
         "name": "DT",
         "rawType": "int64",
         "type": "integer"
        },
        {
         "name": "MN",
         "rawType": "int64",
         "type": "integer"
        },
        {
         "name": "DPT",
         "rawType": "float64",
         "type": "float"
        },
        {
         "name": "WBT",
         "rawType": "float64",
         "type": "float"
        },
        {
         "name": "DBT",
         "rawType": "float64",
         "type": "float"
        }
       ],
       "conversionMethod": "pd.DataFrame",
       "ref": "2b4feab1-205c-4c76-a459-915e93d0f8fa",
       "rows": [
        [
         "0",
         "2010",
         "0",
         "1",
         "1",
         "14.8",
         "17.4",
         "21.2"
        ],
        [
         "1",
         "2010",
         "0",
         "2",
         "1",
         "17.8",
         "19.4",
         "22.0"
        ],
        [
         "2",
         "2010",
         "0",
         "3",
         "1",
         "20.0",
         "21.4",
         "24.0"
        ],
        [
         "3",
         "2010",
         "0",
         "4",
         "1",
         "16.1",
         "18.6",
         "22.4"
        ],
        [
         "4",
         "2010",
         "0",
         "5",
         "1",
         "17.8",
         "18.4",
         "19.4"
        ],
        [
         "5",
         "2010",
         "0",
         "6",
         "1",
         "16.7",
         "18.4",
         "21.0"
        ],
        [
         "6",
         "2010",
         "0",
         "7",
         "1",
         "14.0",
         "18.0",
         "23.8"
        ],
        [
         "7",
         "2010",
         "0",
         "8",
         "1",
         "15.7",
         "18.6",
         "23.0"
        ],
        [
         "8",
         "2010",
         "0",
         "9",
         "1",
         "15.4",
         "16.6",
         "18.4"
        ],
        [
         "9",
         "2010",
         "0",
         "10",
         "1",
         "15.4",
         "16.6",
         "18.4"
        ],
        [
         "10",
         "2010",
         "0",
         "11",
         "1",
         "17.2",
         "18.6",
         "20.8"
        ],
        [
         "11",
         "2010",
         "0",
         "12",
         "1",
         "22.0",
         "23.0",
         "25.0"
        ],
        [
         "12",
         "2010",
         "0",
         "13",
         "1",
         "17.0",
         "19.0",
         "22.2"
        ],
        [
         "13",
         "2010",
         "0",
         "14",
         "1",
         "10.2",
         "13.0",
         "16.2"
        ],
        [
         "14",
         "2010",
         "0",
         "15",
         "1",
         "15.1",
         "17.4",
         "20.8"
        ],
        [
         "15",
         "2010",
         "0",
         "16",
         "1",
         "17.4",
         "20.2",
         "24.8"
        ],
        [
         "16",
         "2010",
         "0",
         "17",
         "1",
         "17.2",
         "18.0",
         "19.2"
        ],
        [
         "17",
         "2010",
         "0",
         "18",
         "1",
         "14.3",
         "15.6",
         "17.4"
        ],
        [
         "18",
         "2010",
         "0",
         "19",
         "1",
         "16.1",
         "17.2",
         "18.8"
        ],
        [
         "19",
         "2010",
         "0",
         "20",
         "1",
         "14.3",
         "16.6",
         "19.8"
        ],
        [
         "20",
         "2010",
         "0",
         "21",
         "1",
         "13.4",
         "17.0",
         "22.0"
        ],
        [
         "21",
         "2010",
         "0",
         "22",
         "1",
         "14.6",
         "16.6",
         "19.4"
        ],
        [
         "22",
         "2010",
         "0",
         "23",
         "1",
         "14.6",
         "15.8",
         "17.4"
        ],
        [
         "23",
         "2010",
         "0",
         "24",
         "1",
         "18.4",
         "19.6",
         "21.6"
        ],
        [
         "24",
         "2010",
         "0",
         "25",
         "1",
         "15.0",
         "16.0",
         "17.4"
        ],
        [
         "25",
         "2010",
         "0",
         "26",
         "1",
         "10.1",
         "15.0",
         "20.8"
        ],
        [
         "26",
         "2010",
         "0",
         "27",
         "1",
         "13.0",
         "16.0",
         "20.0"
        ],
        [
         "27",
         "2010",
         "0",
         "28",
         "1",
         "13.8",
         "16.2",
         "19.4"
        ],
        [
         "28",
         "2010",
         "0",
         "29",
         "1",
         "13.4",
         "15.4",
         "18.0"
        ],
        [
         "29",
         "2010",
         "0",
         "30",
         "1",
         "14.1",
         "16.4",
         "19.6"
        ],
        [
         "30",
         "2010",
         "0",
         "31",
         "1",
         "15.6",
         "17.0",
         "19.0"
        ],
        [
         "31",
         "2010",
         "12",
         "1",
         "1",
         "13.4",
         "17.4",
         "23.0"
        ],
        [
         "32",
         "2010",
         "12",
         "2",
         "1",
         "16.6",
         "19.4",
         "23.8"
        ],
        [
         "33",
         "2010",
         "12",
         "3",
         "1",
         "20.2",
         "21.8",
         "24.8"
        ],
        [
         "34",
         "2010",
         "12",
         "4",
         "1",
         "17.2",
         "19.2",
         "22.4"
        ],
        [
         "35",
         "2010",
         "12",
         "5",
         "1",
         "17.6",
         "18.6",
         "20.2"
        ],
        [
         "36",
         "2010",
         "12",
         "6",
         "1",
         "15.7",
         "18.8",
         "23.6"
        ],
        [
         "37",
         "2010",
         "12",
         "7",
         "1",
         "13.8",
         "18.0",
         "24.0"
        ],
        [
         "38",
         "2010",
         "12",
         "8",
         "1",
         "14.0",
         "18.0",
         "23.8"
        ],
        [
         "39",
         "2010",
         "12",
         "9",
         "1",
         "13.7",
         "17.4",
         "22.6"
        ],
        [
         "40",
         "2010",
         "12",
         "10",
         "1",
         "13.8",
         "17.4",
         "22.4"
        ],
        [
         "41",
         "2010",
         "12",
         "11",
         "1",
         "17.2",
         "19.2",
         "22.4"
        ],
        [
         "42",
         "2010",
         "12",
         "12",
         "1",
         "21.5",
         "22.6",
         "24.8"
        ],
        [
         "43",
         "2010",
         "12",
         "13",
         "1",
         "14.1",
         "17.0",
         "21.0"
        ],
        [
         "44",
         "2010",
         "12",
         "14",
         "1",
         "10.8",
         "13.2",
         "16.0"
        ],
        [
         "45",
         "2010",
         "12",
         "15",
         "1",
         "12.5",
         "17.4",
         "24.0"
        ],
        [
         "46",
         "2010",
         "12",
         "16",
         "1",
         "17.4",
         "20.4",
         "25.4"
        ],
        [
         "47",
         "2010",
         "12",
         "17",
         "1",
         "16.9",
         "18.4",
         "20.8"
        ],
        [
         "48",
         "2010",
         "12",
         "18",
         "1",
         "18.5",
         "20.0",
         "22.6"
        ],
        [
         "49",
         "2010",
         "12",
         "19",
         "1",
         "16.7",
         "17.6",
         "19.0"
        ]
       ],
       "shape": {
        "columns": 7,
        "rows": 43625
       }
      },
      "text/html": [
       "<div>\n",
       "<style scoped>\n",
       "    .dataframe tbody tr th:only-of-type {\n",
       "        vertical-align: middle;\n",
       "    }\n",
       "\n",
       "    .dataframe tbody tr th {\n",
       "        vertical-align: top;\n",
       "    }\n",
       "\n",
       "    .dataframe thead th {\n",
       "        text-align: right;\n",
       "    }\n",
       "</style>\n",
       "<table border=\"1\" class=\"dataframe\">\n",
       "  <thead>\n",
       "    <tr style=\"text-align: right;\">\n",
       "      <th></th>\n",
       "      <th>YEAR</th>\n",
       "      <th>HR</th>\n",
       "      <th>DT</th>\n",
       "      <th>MN</th>\n",
       "      <th>DPT</th>\n",
       "      <th>WBT</th>\n",
       "      <th>DBT</th>\n",
       "    </tr>\n",
       "  </thead>\n",
       "  <tbody>\n",
       "    <tr>\n",
       "      <th>0</th>\n",
       "      <td>2010</td>\n",
       "      <td>0</td>\n",
       "      <td>1</td>\n",
       "      <td>1</td>\n",
       "      <td>14.8</td>\n",
       "      <td>17.4</td>\n",
       "      <td>21.2</td>\n",
       "    </tr>\n",
       "    <tr>\n",
       "      <th>1</th>\n",
       "      <td>2010</td>\n",
       "      <td>0</td>\n",
       "      <td>2</td>\n",
       "      <td>1</td>\n",
       "      <td>17.8</td>\n",
       "      <td>19.4</td>\n",
       "      <td>22.0</td>\n",
       "    </tr>\n",
       "    <tr>\n",
       "      <th>2</th>\n",
       "      <td>2010</td>\n",
       "      <td>0</td>\n",
       "      <td>3</td>\n",
       "      <td>1</td>\n",
       "      <td>20.0</td>\n",
       "      <td>21.4</td>\n",
       "      <td>24.0</td>\n",
       "    </tr>\n",
       "    <tr>\n",
       "      <th>3</th>\n",
       "      <td>2010</td>\n",
       "      <td>0</td>\n",
       "      <td>4</td>\n",
       "      <td>1</td>\n",
       "      <td>16.1</td>\n",
       "      <td>18.6</td>\n",
       "      <td>22.4</td>\n",
       "    </tr>\n",
       "    <tr>\n",
       "      <th>4</th>\n",
       "      <td>2010</td>\n",
       "      <td>0</td>\n",
       "      <td>5</td>\n",
       "      <td>1</td>\n",
       "      <td>17.8</td>\n",
       "      <td>18.4</td>\n",
       "      <td>19.4</td>\n",
       "    </tr>\n",
       "    <tr>\n",
       "      <th>...</th>\n",
       "      <td>...</td>\n",
       "      <td>...</td>\n",
       "      <td>...</td>\n",
       "      <td>...</td>\n",
       "      <td>...</td>\n",
       "      <td>...</td>\n",
       "      <td>...</td>\n",
       "    </tr>\n",
       "    <tr>\n",
       "      <th>43620</th>\n",
       "      <td>2025</td>\n",
       "      <td>19</td>\n",
       "      <td>17</td>\n",
       "      <td>4</td>\n",
       "      <td>NaN</td>\n",
       "      <td>NaN</td>\n",
       "      <td>NaN</td>\n",
       "    </tr>\n",
       "    <tr>\n",
       "      <th>43621</th>\n",
       "      <td>2025</td>\n",
       "      <td>20</td>\n",
       "      <td>17</td>\n",
       "      <td>4</td>\n",
       "      <td>NaN</td>\n",
       "      <td>NaN</td>\n",
       "      <td>NaN</td>\n",
       "    </tr>\n",
       "    <tr>\n",
       "      <th>43622</th>\n",
       "      <td>2025</td>\n",
       "      <td>21</td>\n",
       "      <td>17</td>\n",
       "      <td>4</td>\n",
       "      <td>NaN</td>\n",
       "      <td>NaN</td>\n",
       "      <td>NaN</td>\n",
       "    </tr>\n",
       "    <tr>\n",
       "      <th>43623</th>\n",
       "      <td>2025</td>\n",
       "      <td>22</td>\n",
       "      <td>17</td>\n",
       "      <td>4</td>\n",
       "      <td>NaN</td>\n",
       "      <td>NaN</td>\n",
       "      <td>NaN</td>\n",
       "    </tr>\n",
       "    <tr>\n",
       "      <th>43624</th>\n",
       "      <td>2025</td>\n",
       "      <td>23</td>\n",
       "      <td>17</td>\n",
       "      <td>4</td>\n",
       "      <td>NaN</td>\n",
       "      <td>NaN</td>\n",
       "      <td>NaN</td>\n",
       "    </tr>\n",
       "  </tbody>\n",
       "</table>\n",
       "<p>43625 rows × 7 columns</p>\n",
       "</div>"
      ],
      "text/plain": [
       "       YEAR  HR  DT  MN   DPT   WBT   DBT\n",
       "0      2010   0   1   1  14.8  17.4  21.2\n",
       "1      2010   0   2   1  17.8  19.4  22.0\n",
       "2      2010   0   3   1  20.0  21.4  24.0\n",
       "3      2010   0   4   1  16.1  18.6  22.4\n",
       "4      2010   0   5   1  17.8  18.4  19.4\n",
       "...     ...  ..  ..  ..   ...   ...   ...\n",
       "43620  2025  19  17   4   NaN   NaN   NaN\n",
       "43621  2025  20  17   4   NaN   NaN   NaN\n",
       "43622  2025  21  17   4   NaN   NaN   NaN\n",
       "43623  2025  22  17   4   NaN   NaN   NaN\n",
       "43624  2025  23  17   4   NaN   NaN   NaN\n",
       "\n",
       "[43625 rows x 7 columns]"
      ]
     },
     "execution_count": 17,
     "metadata": {},
     "output_type": "execute_result"
    }
   ],
   "source": [
    "df"
   ]
  },
  {
   "cell_type": "code",
   "execution_count": 18,
   "metadata": {},
   "outputs": [],
   "source": [
    "normals = {\n",
    "    1: 30.4, 2: 31.1, 3: 32.6, 4: 33.0, 5: 33.3, 6: 32.0,\n",
    "    7: 29.9, 8: 29.5, 9: 30.2, 10: 33.1, 11: 33.4, 12: 31.9\n",
    "}\n",
    "df.insert(loc=7, column='Normal_Temp', value=df['MN'].map(normals))"
   ]
  },
  {
   "cell_type": "code",
   "execution_count": 19,
   "metadata": {},
   "outputs": [
    {
     "data": {
      "text/plain": [
       "YEAR            0\n",
       "HR              0\n",
       "DT              0\n",
       "MN              0\n",
       "DPT            42\n",
       "WBT            42\n",
       "DBT            42\n",
       "Normal_Temp     0\n",
       "dtype: int64"
      ]
     },
     "execution_count": 19,
     "metadata": {},
     "output_type": "execute_result"
    }
   ],
   "source": [
    "df.isnull().sum()"
   ]
  },
  {
   "cell_type": "code",
   "execution_count": 20,
   "metadata": {},
   "outputs": [],
   "source": [
    "df=df.interpolate()"
   ]
  },
  {
   "cell_type": "code",
   "execution_count": 22,
   "metadata": {},
   "outputs": [
    {
     "name": "stdout",
     "output_type": "stream",
     "text": [
      "Labelled processed data created\n"
     ]
    }
   ],
   "source": [
    "if os.path.exists(r\"notebook\\data\\unlabelled\\santacruz_combined_normal.csv\"):\n",
    "    print(\"Labelled processed data exists\")\n",
    "else:\n",
    "    df.to_csv(r\"notebook\\data\\unlabelled\\santacruz_combined_normal.csv\", index=False)\n",
    "    print(\"Labelled processed data created\")"
   ]
  },
  {
   "cell_type": "code",
   "execution_count": null,
   "metadata": {},
   "outputs": [],
   "source": [
    "df['DATE'] = pd.to_datetime(df[['YEAR', 'MN', 'DT']].rename(columns={'MN': 'month', 'DT': 'day'}))\n",
    "df.set_index('DATE', inplace=True)\n",
    "df"
   ]
  },
  {
   "cell_type": "code",
   "execution_count": null,
   "metadata": {},
   "outputs": [],
   "source": [
    "df.drop(columns=['YEAR', 'MN', 'DT', 'HR'], inplace=True)\n"
   ]
  },
  {
   "cell_type": "code",
   "execution_count": null,
   "metadata": {},
   "outputs": [],
   "source": [
    "daily_df = df.resample('D').mean()\n"
   ]
  },
  {
   "cell_type": "code",
   "execution_count": null,
   "metadata": {},
   "outputs": [],
   "source": [
    "daily_df"
   ]
  },
  {
   "cell_type": "code",
   "execution_count": null,
   "metadata": {},
   "outputs": [],
   "source": [
    "daily_df.isnull().sum()"
   ]
  },
  {
   "cell_type": "code",
   "execution_count": null,
   "metadata": {},
   "outputs": [],
   "source": [
    "daily_df = daily_df.interpolate()\n",
    "daily_df.isnull().sum()"
   ]
  },
  {
   "cell_type": "code",
   "execution_count": null,
   "metadata": {},
   "outputs": [],
   "source": [
    "if os.path.exists(r\"notebook\\data\\unlabelled\\santacruz_daily.csv\"):\n",
    "    print(\"Labelled processed data exists\")\n",
    "else:\n",
    "    daily_df.to_csv(r\"notebook\\data\\unlabelled\\santacruz_daily.csv\")\n",
    "    print(\"Labelled processed data created\")"
   ]
  }
 ],
 "metadata": {
  "kernelspec": {
   "display_name": "dm-env",
   "language": "python",
   "name": "python3"
  },
  "language_info": {
   "codemirror_mode": {
    "name": "ipython",
    "version": 3
   },
   "file_extension": ".py",
   "mimetype": "text/x-python",
   "name": "python",
   "nbconvert_exporter": "python",
   "pygments_lexer": "ipython3",
   "version": "3.9.21"
  }
 },
 "nbformat": 4,
 "nbformat_minor": 2
}
