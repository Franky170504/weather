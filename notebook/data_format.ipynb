{
 "cells": [
  {
   "cell_type": "code",
   "execution_count": 1,
   "metadata": {},
   "outputs": [],
   "source": [
    "import pandas as pd\n",
    "import numpy as np\n",
    "import seaborn as sns\n",
    "import matplotlib.pyplot as mlt\n",
    "import os \n",
    "import sys"
   ]
  },
  {
   "cell_type": "code",
   "execution_count": 3,
   "metadata": {},
   "outputs": [
    {
     "name": "stdout",
     "output_type": "stream",
     "text": [
      "File created\n"
     ]
    },
    {
     "data": {
      "application/vnd.microsoft.datawrangler.viewer.v0+json": {
       "columns": [
        {
         "name": "index",
         "rawType": "int64",
         "type": "integer"
        },
        {
         "name": "valid_time",
         "rawType": "object",
         "type": "string"
        },
        {
         "name": "latitude",
         "rawType": "float64",
         "type": "float"
        },
        {
         "name": "longitude",
         "rawType": "float64",
         "type": "float"
        },
        {
         "name": "max_temperature",
         "rawType": "float64",
         "type": "float"
        },
        {
         "name": "mean_temperature",
         "rawType": "float64",
         "type": "float"
        },
        {
         "name": "max_precipitation",
         "rawType": "float64",
         "type": "float"
        },
        {
         "name": "mean_precipitation",
         "rawType": "float64",
         "type": "float"
        },
        {
         "name": "mslp",
         "rawType": "float64",
         "type": "float"
        }
       ],
       "conversionMethod": "pd.DataFrame",
       "ref": "289500b1-8eda-4a15-ac8a-4289da00c501",
       "rows": [
        [
         "0",
         "01-01-24",
         "18.8",
         "72.8",
         "300.28345",
         "298.79312",
         "0.0",
         "0.0",
         "101279.91"
        ],
        [
         "1",
         "01-01-24",
         "19.05",
         "72.8",
         "300.91122",
         "298.72922",
         "0.0",
         "0.0",
         "101281.37"
        ],
        [
         "2",
         "01-02-24",
         "18.8",
         "72.8",
         "298.07544",
         "296.97256",
         "3.11e-05",
         "3.7e-06",
         "101541.23"
        ],
        [
         "3",
         "01-02-24",
         "19.05",
         "72.8",
         "298.61383",
         "296.9688",
         "1.68e-05",
         "1.91e-06",
         "101537.69"
        ],
        [
         "4",
         "01-03-24",
         "18.8",
         "72.8",
         "300.19815",
         "299.41925",
         "0.0",
         "0.0",
         "101223.4"
        ]
       ],
       "shape": {
        "columns": 8,
        "rows": 5
       }
      },
      "text/html": [
       "<div>\n",
       "<style scoped>\n",
       "    .dataframe tbody tr th:only-of-type {\n",
       "        vertical-align: middle;\n",
       "    }\n",
       "\n",
       "    .dataframe tbody tr th {\n",
       "        vertical-align: top;\n",
       "    }\n",
       "\n",
       "    .dataframe thead th {\n",
       "        text-align: right;\n",
       "    }\n",
       "</style>\n",
       "<table border=\"1\" class=\"dataframe\">\n",
       "  <thead>\n",
       "    <tr style=\"text-align: right;\">\n",
       "      <th></th>\n",
       "      <th>valid_time</th>\n",
       "      <th>latitude</th>\n",
       "      <th>longitude</th>\n",
       "      <th>max_temperature</th>\n",
       "      <th>mean_temperature</th>\n",
       "      <th>max_precipitation</th>\n",
       "      <th>mean_precipitation</th>\n",
       "      <th>mslp</th>\n",
       "    </tr>\n",
       "  </thead>\n",
       "  <tbody>\n",
       "    <tr>\n",
       "      <th>0</th>\n",
       "      <td>01-01-24</td>\n",
       "      <td>18.80</td>\n",
       "      <td>72.8</td>\n",
       "      <td>300.28345</td>\n",
       "      <td>298.79312</td>\n",
       "      <td>0.000000</td>\n",
       "      <td>0.000000</td>\n",
       "      <td>101279.91</td>\n",
       "    </tr>\n",
       "    <tr>\n",
       "      <th>1</th>\n",
       "      <td>01-01-24</td>\n",
       "      <td>19.05</td>\n",
       "      <td>72.8</td>\n",
       "      <td>300.91122</td>\n",
       "      <td>298.72922</td>\n",
       "      <td>0.000000</td>\n",
       "      <td>0.000000</td>\n",
       "      <td>101281.37</td>\n",
       "    </tr>\n",
       "    <tr>\n",
       "      <th>2</th>\n",
       "      <td>01-02-24</td>\n",
       "      <td>18.80</td>\n",
       "      <td>72.8</td>\n",
       "      <td>298.07544</td>\n",
       "      <td>296.97256</td>\n",
       "      <td>0.000031</td>\n",
       "      <td>0.000004</td>\n",
       "      <td>101541.23</td>\n",
       "    </tr>\n",
       "    <tr>\n",
       "      <th>3</th>\n",
       "      <td>01-02-24</td>\n",
       "      <td>19.05</td>\n",
       "      <td>72.8</td>\n",
       "      <td>298.61383</td>\n",
       "      <td>296.96880</td>\n",
       "      <td>0.000017</td>\n",
       "      <td>0.000002</td>\n",
       "      <td>101537.69</td>\n",
       "    </tr>\n",
       "    <tr>\n",
       "      <th>4</th>\n",
       "      <td>01-03-24</td>\n",
       "      <td>18.80</td>\n",
       "      <td>72.8</td>\n",
       "      <td>300.19815</td>\n",
       "      <td>299.41925</td>\n",
       "      <td>0.000000</td>\n",
       "      <td>0.000000</td>\n",
       "      <td>101223.40</td>\n",
       "    </tr>\n",
       "  </tbody>\n",
       "</table>\n",
       "</div>"
      ],
      "text/plain": [
       "  valid_time  latitude  longitude  max_temperature  mean_temperature  \\\n",
       "0   01-01-24     18.80       72.8        300.28345         298.79312   \n",
       "1   01-01-24     19.05       72.8        300.91122         298.72922   \n",
       "2   01-02-24     18.80       72.8        298.07544         296.97256   \n",
       "3   01-02-24     19.05       72.8        298.61383         296.96880   \n",
       "4   01-03-24     18.80       72.8        300.19815         299.41925   \n",
       "\n",
       "   max_precipitation  mean_precipitation       mslp  \n",
       "0           0.000000            0.000000  101279.91  \n",
       "1           0.000000            0.000000  101281.37  \n",
       "2           0.000031            0.000004  101541.23  \n",
       "3           0.000017            0.000002  101537.69  \n",
       "4           0.000000            0.000000  101223.40  "
      ]
     },
     "execution_count": 3,
     "metadata": {},
     "output_type": "execute_result"
    }
   ],
   "source": [
    "file_paths = {\n",
    "    \"max_temperature\": \"data/max_temperature.csv\",\n",
    "    \"mean_temperature\": \"data/mean_temperature.csv\",\n",
    "    \"max_precipitation\": \"data/max_precipitation.csv\",\n",
    "    \"mean_precipitation\": \"data/mean_precipitation.csv\",\n",
    "    \"mslp\": \"data/mslp.csv\",\n",
    "}\n",
    "\n",
    "# Initialize an empty list to store DataFrames\n",
    "dfs = []\n",
    "\n",
    "# Read each CSV and extract relevant columns\n",
    "for name, path in file_paths.items():\n",
    "    df = pd.read_csv(path)\n",
    "    # Identify unique columns (excluding common ones)\n",
    "    unique_cols = [col for col in df.columns if col not in ['valid_time', 'latitude', 'longitude']]\n",
    "    if unique_cols:\n",
    "        unique_col = unique_cols[0]  # Assuming one unique column per file\n",
    "        df = df[['valid_time', 'latitude', 'longitude', unique_col]]\n",
    "        df.rename(columns={unique_col: name}, inplace=True)  # Rename to file-specific name\n",
    "        dfs.append(df)\n",
    "\n",
    "# Merge all DataFrames on common columns\n",
    "merged_df = dfs[0]\n",
    "for df in dfs[1:]:\n",
    "    merged_df = pd.merge(merged_df, df, on=['valid_time', 'latitude', 'longitude'], how='outer')\n",
    "\n",
    "# Save to a new CSV file\n",
    "if os.path.exists(\"data/merged/merged_data.csv\"):\n",
    "    print(\"File alreay exists\")\n",
    "else:\n",
    "    merged_df.to_csv(\"data/merged/merged_data.csv\", index=False)\n",
    "    print(\"File created\")\n",
    "\n",
    "# Display the merged DataFrame head\n",
    "merged_df.head()"
   ]
  },
  {
   "cell_type": "code",
   "execution_count": null,
   "metadata": {},
   "outputs": [],
   "source": []
  },
  {
   "cell_type": "code",
   "execution_count": null,
   "metadata": {},
   "outputs": [],
   "source": []
  }
 ],
 "metadata": {
  "kernelspec": {
   "display_name": "dm-env",
   "language": "python",
   "name": "python3"
  },
  "language_info": {
   "codemirror_mode": {
    "name": "ipython",
    "version": 3
   },
   "file_extension": ".py",
   "mimetype": "text/x-python",
   "name": "python",
   "nbconvert_exporter": "python",
   "pygments_lexer": "ipython3",
   "version": "3.9.21"
  }
 },
 "nbformat": 4,
 "nbformat_minor": 2
}
