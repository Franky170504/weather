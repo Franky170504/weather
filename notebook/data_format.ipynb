{
 "cells": [
  {
   "cell_type": "code",
   "execution_count": null,
   "metadata": {},
   "outputs": [],
   "source": [
    "import pandas as pd\n",
    "import numpy as np\n",
    "import seaborn as sns\n",
    "import matplotlib.pyplot as mlt\n",
    "import os \n",
    "import sys"
   ]
  },
  {
   "cell_type": "code",
   "execution_count": null,
   "metadata": {},
   "outputs": [],
   "source": [
    "file_paths = {\n",
    "    \"max_temperature\": \"data/max_temperature.csv\",\n",
    "    \"mean_temperature\": \"data/mean_temperature.csv\",\n",
    "    \"max_precipitation\": \"data/max_precipitation.csv\",\n",
    "    \"mean_precipitation\": \"data/mean_precipitation.csv\",\n",
    "    \"mslp\": \"data/mslp.csv\",\n",
    "}\n",
    "\n",
    "# Initialize an empty list to store DataFrames\n",
    "dfs = []\n",
    "\n",
    "# Read each CSV and extract relevant columns\n",
    "for name, path in file_paths.items():\n",
    "    df = pd.read_csv(path)\n",
    "    # Identify unique columns (excluding common ones)\n",
    "    unique_cols = [col for col in df.columns if col not in ['valid_time', 'latitude', 'longitude']]\n",
    "    if unique_cols:\n",
    "        unique_col = unique_cols[0]  # Assuming one unique column per file\n",
    "        df = df[['valid_time', 'latitude', 'longitude', unique_col]]\n",
    "        df.rename(columns={unique_col: name}, inplace=True)  # Rename to file-specific name\n",
    "        dfs.append(df)\n",
    "\n",
    "# Merge all DataFrames on common columns\n",
    "merged_df = dfs[0]\n",
    "for df in dfs[1:]:\n",
    "    merged_df = pd.merge(merged_df, df, on=['valid_time', 'latitude', 'longitude'], how='outer')\n",
    "\n",
    "# Save to a new CSV file\n",
    "if os.path.exists(\"data/merged/merged_data.csv\"):\n",
    "    print(\"File alreay exists\")\n",
    "else:\n",
    "    merged_df.to_csv(\"data/merged/merged_data.csv\", index=False)\n",
    "    print(\"File created\")\n",
    "\n",
    "# Display the merged DataFrame head\n",
    "merged_df.head()"
   ]
  },
  {
   "cell_type": "code",
   "execution_count": null,
   "metadata": {},
   "outputs": [],
   "source": []
  },
  {
   "cell_type": "code",
   "execution_count": null,
   "metadata": {},
   "outputs": [],
   "source": []
  }
 ],
 "metadata": {
  "kernelspec": {
   "display_name": "dm-env",
   "language": "python",
   "name": "python3"
  },
  "language_info": {
   "codemirror_mode": {
    "name": "ipython",
    "version": 3
   },
   "file_extension": ".py",
   "mimetype": "text/x-python",
   "name": "python",
   "nbconvert_exporter": "python",
   "pygments_lexer": "ipython3",
   "version": "3.9.21"
  }
 },
 "nbformat": 4,
 "nbformat_minor": 2
}
