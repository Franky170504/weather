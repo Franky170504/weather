{
 "cells": [
  {
   "cell_type": "code",
<<<<<<< HEAD
   "execution_count": 1,
=======
   "execution_count": 47,
>>>>>>> 3007486f1f4a1e2769cfb1ada18f2fcf7d69142a
   "metadata": {},
   "outputs": [],
   "source": [
    "import pandas as pd\n",
    "import numpy as np\n",
    "import seaborn as sns\n",
    "import matplotlib.pyplot as mlt\n",
    "import os \n",
    "import glob\n",
    "import sys"
   ]
  },
  {
   "cell_type": "code",
<<<<<<< HEAD
   "execution_count": 3,
=======
   "execution_count": 48,
>>>>>>> 3007486f1f4a1e2769cfb1ada18f2fcf7d69142a
   "metadata": {},
   "outputs": [
    {
     "name": "stdout",
     "output_type": "stream",
     "text": [
      "File created\n"
     ]
    },
    {
     "data": {
      "application/vnd.microsoft.datawrangler.viewer.v0+json": {
       "columns": [
        {
         "name": "index",
         "rawType": "int64",
         "type": "integer"
        },
        {
         "name": "valid_time",
         "rawType": "object",
         "type": "string"
        },
        {
         "name": "latitude",
         "rawType": "float64",
         "type": "float"
        },
        {
         "name": "longitude",
         "rawType": "float64",
         "type": "float"
        },
        {
         "name": "max_temperature",
         "rawType": "float64",
         "type": "float"
<<<<<<< HEAD
        },
        {
         "name": "mean_temperature",
         "rawType": "float64",
         "type": "float"
        },
        {
         "name": "max_precipitation",
         "rawType": "float64",
         "type": "float"
        },
        {
         "name": "mean_precipitation",
         "rawType": "float64",
         "type": "float"
        },
        {
         "name": "mslp",
         "rawType": "float64",
         "type": "float"
        }
       ],
       "conversionMethod": "pd.DataFrame",
       "ref": "289500b1-8eda-4a15-ac8a-4289da00c501",
       "rows": [
        [
         "0",
         "01-01-24",
         "18.8",
         "72.8",
         "300.28345",
         "298.79312",
         "0.0",
         "0.0",
         "101279.91"
        ],
        [
         "1",
         "01-01-24",
         "19.05",
         "72.8",
         "300.91122",
         "298.72922",
         "0.0",
         "0.0",
         "101281.37"
        ],
        [
         "2",
         "01-02-24",
         "18.8",
         "72.8",
         "298.07544",
         "296.97256",
         "3.11e-05",
         "3.7e-06",
         "101541.23"
        ],
        [
         "3",
         "01-02-24",
         "19.05",
         "72.8",
         "298.61383",
         "296.9688",
         "1.68e-05",
         "1.91e-06",
         "101537.69"
        ],
        [
         "4",
         "01-03-24",
         "18.8",
         "72.8",
         "300.19815",
         "299.41925",
         "0.0",
         "0.0",
         "101223.4"
        ]
       ],
       "shape": {
        "columns": 8,
=======
        }
       ],
       "conversionMethod": "pd.DataFrame",
       "ref": "cd57b370-7c68-4497-abfc-4a5d649eeba4",
       "rows": [
        [
         "0",
         "01-05-2024",
         "19.05",
         "72.8",
         "302.6805"
        ],
        [
         "1",
         "01-05-2024",
         "18.8",
         "72.8",
         "302.3444"
        ],
        [
         "2",
         "02-05-2024",
         "19.05",
         "72.8",
         "301.8137"
        ],
        [
         "3",
         "02-05-2024",
         "18.8",
         "72.8",
         "301.58856"
        ],
        [
         "4",
         "03-05-2024",
         "19.05",
         "72.8",
         "301.32852"
        ]
       ],
       "shape": {
        "columns": 4,
>>>>>>> 3007486f1f4a1e2769cfb1ada18f2fcf7d69142a
        "rows": 5
       }
      },
      "text/html": [
       "<div>\n",
       "<style scoped>\n",
       "    .dataframe tbody tr th:only-of-type {\n",
       "        vertical-align: middle;\n",
       "    }\n",
       "\n",
       "    .dataframe tbody tr th {\n",
       "        vertical-align: top;\n",
       "    }\n",
       "\n",
       "    .dataframe thead th {\n",
       "        text-align: right;\n",
       "    }\n",
       "</style>\n",
       "<table border=\"1\" class=\"dataframe\">\n",
       "  <thead>\n",
       "    <tr style=\"text-align: right;\">\n",
       "      <th></th>\n",
       "      <th>valid_time</th>\n",
       "      <th>latitude</th>\n",
       "      <th>longitude</th>\n",
<<<<<<< HEAD
       "      <th>max_temperature</th>\n",
       "      <th>mean_temperature</th>\n",
       "      <th>max_precipitation</th>\n",
       "      <th>mean_precipitation</th>\n",
       "      <th>mslp</th>\n",
=======
       "      <th>t2m</th>\n",
>>>>>>> 3007486f1f4a1e2769cfb1ada18f2fcf7d69142a
       "    </tr>\n",
       "  </thead>\n",
       "  <tbody>\n",
       "    <tr>\n",
       "      <th>0</th>\n",
<<<<<<< HEAD
       "      <td>01-01-24</td>\n",
       "      <td>18.80</td>\n",
       "      <td>72.8</td>\n",
       "      <td>300.28345</td>\n",
       "      <td>298.79312</td>\n",
       "      <td>0.000000</td>\n",
       "      <td>0.000000</td>\n",
       "      <td>101279.91</td>\n",
       "    </tr>\n",
       "    <tr>\n",
       "      <th>1</th>\n",
       "      <td>01-01-24</td>\n",
       "      <td>19.05</td>\n",
       "      <td>72.8</td>\n",
       "      <td>300.91122</td>\n",
       "      <td>298.72922</td>\n",
       "      <td>0.000000</td>\n",
       "      <td>0.000000</td>\n",
       "      <td>101281.37</td>\n",
       "    </tr>\n",
       "    <tr>\n",
       "      <th>2</th>\n",
       "      <td>01-02-24</td>\n",
       "      <td>18.80</td>\n",
       "      <td>72.8</td>\n",
       "      <td>298.07544</td>\n",
       "      <td>296.97256</td>\n",
       "      <td>0.000031</td>\n",
       "      <td>0.000004</td>\n",
       "      <td>101541.23</td>\n",
       "    </tr>\n",
       "    <tr>\n",
       "      <th>3</th>\n",
       "      <td>01-02-24</td>\n",
       "      <td>19.05</td>\n",
       "      <td>72.8</td>\n",
       "      <td>298.61383</td>\n",
       "      <td>296.96880</td>\n",
       "      <td>0.000017</td>\n",
       "      <td>0.000002</td>\n",
       "      <td>101537.69</td>\n",
       "    </tr>\n",
       "    <tr>\n",
       "      <th>4</th>\n",
       "      <td>01-03-24</td>\n",
       "      <td>18.80</td>\n",
       "      <td>72.8</td>\n",
       "      <td>300.19815</td>\n",
       "      <td>299.41925</td>\n",
       "      <td>0.000000</td>\n",
       "      <td>0.000000</td>\n",
       "      <td>101223.40</td>\n",
=======
       "      <td>01-05-2024</td>\n",
       "      <td>19.05</td>\n",
       "      <td>72.8</td>\n",
       "      <td>302.68050</td>\n",
       "    </tr>\n",
       "    <tr>\n",
       "      <th>1</th>\n",
       "      <td>01-05-2024</td>\n",
       "      <td>18.80</td>\n",
       "      <td>72.8</td>\n",
       "      <td>302.34440</td>\n",
       "    </tr>\n",
       "    <tr>\n",
       "      <th>2</th>\n",
       "      <td>02-05-2024</td>\n",
       "      <td>19.05</td>\n",
       "      <td>72.8</td>\n",
       "      <td>301.81370</td>\n",
       "    </tr>\n",
       "    <tr>\n",
       "      <th>3</th>\n",
       "      <td>02-05-2024</td>\n",
       "      <td>18.80</td>\n",
       "      <td>72.8</td>\n",
       "      <td>301.58856</td>\n",
       "    </tr>\n",
       "    <tr>\n",
       "      <th>4</th>\n",
       "      <td>03-05-2024</td>\n",
       "      <td>19.05</td>\n",
       "      <td>72.8</td>\n",
       "      <td>301.32852</td>\n",
>>>>>>> 3007486f1f4a1e2769cfb1ada18f2fcf7d69142a
       "    </tr>\n",
       "  </tbody>\n",
       "</table>\n",
       "</div>"
      ],
      "text/plain": [
<<<<<<< HEAD
       "  valid_time  latitude  longitude  max_temperature  mean_temperature  \\\n",
       "0   01-01-24     18.80       72.8        300.28345         298.79312   \n",
       "1   01-01-24     19.05       72.8        300.91122         298.72922   \n",
       "2   01-02-24     18.80       72.8        298.07544         296.97256   \n",
       "3   01-02-24     19.05       72.8        298.61383         296.96880   \n",
       "4   01-03-24     18.80       72.8        300.19815         299.41925   \n",
       "\n",
       "   max_precipitation  mean_precipitation       mslp  \n",
       "0           0.000000            0.000000  101279.91  \n",
       "1           0.000000            0.000000  101281.37  \n",
       "2           0.000031            0.000004  101541.23  \n",
       "3           0.000017            0.000002  101537.69  \n",
       "4           0.000000            0.000000  101223.40  "
      ]
     },
     "execution_count": 3,
=======
       "   valid_time  latitude  longitude        t2m\n",
       "0  01-05-2024     19.05       72.8  302.68050\n",
       "1  01-05-2024     18.80       72.8  302.34440\n",
       "2  02-05-2024     19.05       72.8  301.81370\n",
       "3  02-05-2024     18.80       72.8  301.58856\n",
       "4  03-05-2024     19.05       72.8  301.32852"
      ]
     },
     "execution_count": 48,
>>>>>>> 3007486f1f4a1e2769cfb1ada18f2fcf7d69142a
     "metadata": {},
     "output_type": "execute_result"
    }
   ],
   "source": [
<<<<<<< HEAD
    "file_paths = {\n",
    "    \"max_temperature\": \"data/max_temperature.csv\",\n",
    "    \"mean_temperature\": \"data/mean_temperature.csv\",\n",
    "    \"max_precipitation\": \"data/max_precipitation.csv\",\n",
    "    \"mean_precipitation\": \"data/mean_precipitation.csv\",\n",
    "    \"mslp\": \"data/mslp.csv\",\n",
=======
    "df_temp = pd.read_csv(\"data\\_temperature.csv\")\n",
    "df_temp.head()"
   ]
  },
  {
   "cell_type": "code",
   "execution_count": 49,
   "metadata": {},
   "outputs": [
    {
     "data": {
      "application/vnd.microsoft.datawrangler.viewer.v0+json": {
       "columns": [
        {
         "name": "index",
         "rawType": "int64",
         "type": "integer"
        },
        {
         "name": "valid_time",
         "rawType": "object",
         "type": "string"
        },
        {
         "name": "latitude",
         "rawType": "float64",
         "type": "float"
        },
        {
         "name": "longitude",
         "rawType": "float64",
         "type": "float"
        },
        {
         "name": "swvl1",
         "rawType": "float64",
         "type": "float"
        }
       ],
       "conversionMethod": "pd.DataFrame",
       "ref": "5deb1491-da6c-44f1-ba90-a5bc3c5a714a",
       "rows": [
        [
         "0",
         "01-05-2024",
         "19.05",
         "72.8",
         "0.026228828"
        ],
        [
         "1",
         "01-05-2024",
         "18.8",
         "72.8",
         "0.028105043"
        ],
        [
         "2",
         "02-05-2024",
         "19.05",
         "72.8",
         "0.026442325"
        ],
        [
         "3",
         "02-05-2024",
         "18.8",
         "72.8",
         "0.02807489"
        ],
        [
         "4",
         "03-05-2024",
         "19.05",
         "72.8",
         "0.026734397"
        ]
       ],
       "shape": {
        "columns": 4,
        "rows": 5
       }
      },
      "text/html": [
       "<div>\n",
       "<style scoped>\n",
       "    .dataframe tbody tr th:only-of-type {\n",
       "        vertical-align: middle;\n",
       "    }\n",
       "\n",
       "    .dataframe tbody tr th {\n",
       "        vertical-align: top;\n",
       "    }\n",
       "\n",
       "    .dataframe thead th {\n",
       "        text-align: right;\n",
       "    }\n",
       "</style>\n",
       "<table border=\"1\" class=\"dataframe\">\n",
       "  <thead>\n",
       "    <tr style=\"text-align: right;\">\n",
       "      <th></th>\n",
       "      <th>valid_time</th>\n",
       "      <th>latitude</th>\n",
       "      <th>longitude</th>\n",
       "      <th>swvl1</th>\n",
       "    </tr>\n",
       "  </thead>\n",
       "  <tbody>\n",
       "    <tr>\n",
       "      <th>0</th>\n",
       "      <td>01-05-2024</td>\n",
       "      <td>19.05</td>\n",
       "      <td>72.8</td>\n",
       "      <td>0.026229</td>\n",
       "    </tr>\n",
       "    <tr>\n",
       "      <th>1</th>\n",
       "      <td>01-05-2024</td>\n",
       "      <td>18.80</td>\n",
       "      <td>72.8</td>\n",
       "      <td>0.028105</td>\n",
       "    </tr>\n",
       "    <tr>\n",
       "      <th>2</th>\n",
       "      <td>02-05-2024</td>\n",
       "      <td>19.05</td>\n",
       "      <td>72.8</td>\n",
       "      <td>0.026442</td>\n",
       "    </tr>\n",
       "    <tr>\n",
       "      <th>3</th>\n",
       "      <td>02-05-2024</td>\n",
       "      <td>18.80</td>\n",
       "      <td>72.8</td>\n",
       "      <td>0.028075</td>\n",
       "    </tr>\n",
       "    <tr>\n",
       "      <th>4</th>\n",
       "      <td>03-05-2024</td>\n",
       "      <td>19.05</td>\n",
       "      <td>72.8</td>\n",
       "      <td>0.026734</td>\n",
       "    </tr>\n",
       "  </tbody>\n",
       "</table>\n",
       "</div>"
      ],
      "text/plain": [
       "   valid_time  latitude  longitude     swvl1\n",
       "0  01-05-2024     19.05       72.8  0.026229\n",
       "1  01-05-2024     18.80       72.8  0.028105\n",
       "2  02-05-2024     19.05       72.8  0.026442\n",
       "3  02-05-2024     18.80       72.8  0.028075\n",
       "4  03-05-2024     19.05       72.8  0.026734"
      ]
     },
     "execution_count": 49,
     "metadata": {},
     "output_type": "execute_result"
    }
   ],
   "source": [
    "df_vol_soil_water_l_1 = pd.read_csv(\"data\\_volumetric_soil_water_layer_1.csv\")\n",
    "df_vol_soil_water_l_1.head()"
   ]
  },
  {
   "cell_type": "code",
   "execution_count": 50,
   "metadata": {},
   "outputs": [
    {
     "data": {
      "application/vnd.microsoft.datawrangler.viewer.v0+json": {
       "columns": [
        {
         "name": "index",
         "rawType": "int64",
         "type": "integer"
        },
        {
         "name": "valid_time",
         "rawType": "object",
         "type": "string"
        },
        {
         "name": "latitude",
         "rawType": "float64",
         "type": "float"
        },
        {
         "name": "longitude",
         "rawType": "float64",
         "type": "float"
        },
        {
         "name": "tp",
         "rawType": "float64",
         "type": "float"
        }
       ],
       "conversionMethod": "pd.DataFrame",
       "ref": "45e1af50-ce2c-4440-bf23-abad70ba5850",
       "rows": [
        [
         "0",
         "01-05-2024",
         "19.05",
         "72.8",
         "0.0"
        ],
        [
         "1",
         "01-05-2024",
         "18.8",
         "72.8",
         "0.0"
        ],
        [
         "2",
         "02-05-2024",
         "19.05",
         "72.8",
         "0.0"
        ],
        [
         "3",
         "02-05-2024",
         "18.8",
         "72.8",
         "0.0"
        ],
        [
         "4",
         "03-05-2024",
         "19.05",
         "72.8",
         "0.0"
        ]
       ],
       "shape": {
        "columns": 4,
        "rows": 5
       }
      },
      "text/html": [
       "<div>\n",
       "<style scoped>\n",
       "    .dataframe tbody tr th:only-of-type {\n",
       "        vertical-align: middle;\n",
       "    }\n",
       "\n",
       "    .dataframe tbody tr th {\n",
       "        vertical-align: top;\n",
       "    }\n",
       "\n",
       "    .dataframe thead th {\n",
       "        text-align: right;\n",
       "    }\n",
       "</style>\n",
       "<table border=\"1\" class=\"dataframe\">\n",
       "  <thead>\n",
       "    <tr style=\"text-align: right;\">\n",
       "      <th></th>\n",
       "      <th>valid_time</th>\n",
       "      <th>latitude</th>\n",
       "      <th>longitude</th>\n",
       "      <th>tp</th>\n",
       "    </tr>\n",
       "  </thead>\n",
       "  <tbody>\n",
       "    <tr>\n",
       "      <th>0</th>\n",
       "      <td>01-05-2024</td>\n",
       "      <td>19.05</td>\n",
       "      <td>72.8</td>\n",
       "      <td>0.0</td>\n",
       "    </tr>\n",
       "    <tr>\n",
       "      <th>1</th>\n",
       "      <td>01-05-2024</td>\n",
       "      <td>18.80</td>\n",
       "      <td>72.8</td>\n",
       "      <td>0.0</td>\n",
       "    </tr>\n",
       "    <tr>\n",
       "      <th>2</th>\n",
       "      <td>02-05-2024</td>\n",
       "      <td>19.05</td>\n",
       "      <td>72.8</td>\n",
       "      <td>0.0</td>\n",
       "    </tr>\n",
       "    <tr>\n",
       "      <th>3</th>\n",
       "      <td>02-05-2024</td>\n",
       "      <td>18.80</td>\n",
       "      <td>72.8</td>\n",
       "      <td>0.0</td>\n",
       "    </tr>\n",
       "    <tr>\n",
       "      <th>4</th>\n",
       "      <td>03-05-2024</td>\n",
       "      <td>19.05</td>\n",
       "      <td>72.8</td>\n",
       "      <td>0.0</td>\n",
       "    </tr>\n",
       "  </tbody>\n",
       "</table>\n",
       "</div>"
      ],
      "text/plain": [
       "   valid_time  latitude  longitude   tp\n",
       "0  01-05-2024     19.05       72.8  0.0\n",
       "1  01-05-2024     18.80       72.8  0.0\n",
       "2  02-05-2024     19.05       72.8  0.0\n",
       "3  02-05-2024     18.80       72.8  0.0\n",
       "4  03-05-2024     19.05       72.8  0.0"
      ]
     },
     "execution_count": 50,
     "metadata": {},
     "output_type": "execute_result"
    }
   ],
   "source": [
    "df_preci = pd.read_csv(\"data\\precipitation.csv\")\n",
    "df_preci.head()"
   ]
  },
  {
   "cell_type": "code",
   "execution_count": 51,
   "metadata": {},
   "outputs": [
    {
     "data": {
      "application/vnd.microsoft.datawrangler.viewer.v0+json": {
       "columns": [
        {
         "name": "index",
         "rawType": "int64",
         "type": "integer"
        },
        {
         "name": "valid_time",
         "rawType": "object",
         "type": "string"
        },
        {
         "name": "latitude",
         "rawType": "float64",
         "type": "float"
        },
        {
         "name": "longitude",
         "rawType": "float64",
         "type": "float"
        },
        {
         "name": "sst",
         "rawType": "float64",
         "type": "float"
        }
       ],
       "conversionMethod": "pd.DataFrame",
       "ref": "ad6d7898-2992-41e8-93d6-22da6e721fe2",
       "rows": [
        [
         "0",
         "01-05-2024",
         "19.05",
         "72.8",
         "302.85666"
        ],
        [
         "1",
         "01-05-2024",
         "18.8",
         "72.8",
         "302.76273"
        ],
        [
         "2",
         "02-05-2024",
         "19.05",
         "72.8",
         "302.79294"
        ],
        [
         "3",
         "02-05-2024",
         "18.8",
         "72.8",
         "302.78848"
        ],
        [
         "4",
         "03-05-2024",
         "19.05",
         "72.8",
         "302.92545"
        ]
       ],
       "shape": {
        "columns": 4,
        "rows": 5
       }
      },
      "text/html": [
       "<div>\n",
       "<style scoped>\n",
       "    .dataframe tbody tr th:only-of-type {\n",
       "        vertical-align: middle;\n",
       "    }\n",
       "\n",
       "    .dataframe tbody tr th {\n",
       "        vertical-align: top;\n",
       "    }\n",
       "\n",
       "    .dataframe thead th {\n",
       "        text-align: right;\n",
       "    }\n",
       "</style>\n",
       "<table border=\"1\" class=\"dataframe\">\n",
       "  <thead>\n",
       "    <tr style=\"text-align: right;\">\n",
       "      <th></th>\n",
       "      <th>valid_time</th>\n",
       "      <th>latitude</th>\n",
       "      <th>longitude</th>\n",
       "      <th>sst</th>\n",
       "    </tr>\n",
       "  </thead>\n",
       "  <tbody>\n",
       "    <tr>\n",
       "      <th>0</th>\n",
       "      <td>01-05-2024</td>\n",
       "      <td>19.05</td>\n",
       "      <td>72.8</td>\n",
       "      <td>302.85666</td>\n",
       "    </tr>\n",
       "    <tr>\n",
       "      <th>1</th>\n",
       "      <td>01-05-2024</td>\n",
       "      <td>18.80</td>\n",
       "      <td>72.8</td>\n",
       "      <td>302.76273</td>\n",
       "    </tr>\n",
       "    <tr>\n",
       "      <th>2</th>\n",
       "      <td>02-05-2024</td>\n",
       "      <td>19.05</td>\n",
       "      <td>72.8</td>\n",
       "      <td>302.79294</td>\n",
       "    </tr>\n",
       "    <tr>\n",
       "      <th>3</th>\n",
       "      <td>02-05-2024</td>\n",
       "      <td>18.80</td>\n",
       "      <td>72.8</td>\n",
       "      <td>302.78848</td>\n",
       "    </tr>\n",
       "    <tr>\n",
       "      <th>4</th>\n",
       "      <td>03-05-2024</td>\n",
       "      <td>19.05</td>\n",
       "      <td>72.8</td>\n",
       "      <td>302.92545</td>\n",
       "    </tr>\n",
       "  </tbody>\n",
       "</table>\n",
       "</div>"
      ],
      "text/plain": [
       "   valid_time  latitude  longitude        sst\n",
       "0  01-05-2024     19.05       72.8  302.85666\n",
       "1  01-05-2024     18.80       72.8  302.76273\n",
       "2  02-05-2024     19.05       72.8  302.79294\n",
       "3  02-05-2024     18.80       72.8  302.78848\n",
       "4  03-05-2024     19.05       72.8  302.92545"
      ]
     },
     "execution_count": 51,
     "metadata": {},
     "output_type": "execute_result"
    }
   ],
   "source": [
    "df_sea_surface_temp = pd.read_csv(\"data\\sea_surface_temperature.csv\")\n",
    "df_sea_surface_temp.head()"
   ]
  },
  {
   "cell_type": "code",
   "execution_count": 52,
   "metadata": {},
   "outputs": [
    {
     "data": {
      "application/vnd.microsoft.datawrangler.viewer.v0+json": {
       "columns": [
        {
         "name": "index",
         "rawType": "int64",
         "type": "integer"
        },
        {
         "name": "valid_time",
         "rawType": "object",
         "type": "string"
        },
        {
         "name": "latitude",
         "rawType": "float64",
         "type": "float"
        },
        {
         "name": "longitude",
         "rawType": "float64",
         "type": "float"
        },
        {
         "name": "stl1",
         "rawType": "float64",
         "type": "float"
        }
       ],
       "conversionMethod": "pd.DataFrame",
       "ref": "34643b92-2261-4a1e-b18b-e43a2379b44f",
       "rows": [
        [
         "0",
         "01-05-2024",
         "19.05",
         "72.8",
         "303.6378"
        ],
        [
         "1",
         "01-05-2024",
         "18.8",
         "72.8",
         "303.0579"
        ],
        [
         "2",
         "02-05-2024",
         "19.05",
         "72.8",
         "303.39496"
        ],
        [
         "3",
         "02-05-2024",
         "18.8",
         "72.8",
         "302.96512"
        ],
        [
         "4",
         "03-05-2024",
         "19.05",
         "72.8",
         "303.41757"
        ]
       ],
       "shape": {
        "columns": 4,
        "rows": 5
       }
      },
      "text/html": [
       "<div>\n",
       "<style scoped>\n",
       "    .dataframe tbody tr th:only-of-type {\n",
       "        vertical-align: middle;\n",
       "    }\n",
       "\n",
       "    .dataframe tbody tr th {\n",
       "        vertical-align: top;\n",
       "    }\n",
       "\n",
       "    .dataframe thead th {\n",
       "        text-align: right;\n",
       "    }\n",
       "</style>\n",
       "<table border=\"1\" class=\"dataframe\">\n",
       "  <thead>\n",
       "    <tr style=\"text-align: right;\">\n",
       "      <th></th>\n",
       "      <th>valid_time</th>\n",
       "      <th>latitude</th>\n",
       "      <th>longitude</th>\n",
       "      <th>stl1</th>\n",
       "    </tr>\n",
       "  </thead>\n",
       "  <tbody>\n",
       "    <tr>\n",
       "      <th>0</th>\n",
       "      <td>01-05-2024</td>\n",
       "      <td>19.05</td>\n",
       "      <td>72.8</td>\n",
       "      <td>303.63780</td>\n",
       "    </tr>\n",
       "    <tr>\n",
       "      <th>1</th>\n",
       "      <td>01-05-2024</td>\n",
       "      <td>18.80</td>\n",
       "      <td>72.8</td>\n",
       "      <td>303.05790</td>\n",
       "    </tr>\n",
       "    <tr>\n",
       "      <th>2</th>\n",
       "      <td>02-05-2024</td>\n",
       "      <td>19.05</td>\n",
       "      <td>72.8</td>\n",
       "      <td>303.39496</td>\n",
       "    </tr>\n",
       "    <tr>\n",
       "      <th>3</th>\n",
       "      <td>02-05-2024</td>\n",
       "      <td>18.80</td>\n",
       "      <td>72.8</td>\n",
       "      <td>302.96512</td>\n",
       "    </tr>\n",
       "    <tr>\n",
       "      <th>4</th>\n",
       "      <td>03-05-2024</td>\n",
       "      <td>19.05</td>\n",
       "      <td>72.8</td>\n",
       "      <td>303.41757</td>\n",
       "    </tr>\n",
       "  </tbody>\n",
       "</table>\n",
       "</div>"
      ],
      "text/plain": [
       "   valid_time  latitude  longitude       stl1\n",
       "0  01-05-2024     19.05       72.8  303.63780\n",
       "1  01-05-2024     18.80       72.8  303.05790\n",
       "2  02-05-2024     19.05       72.8  303.39496\n",
       "3  02-05-2024     18.80       72.8  302.96512\n",
       "4  03-05-2024     19.05       72.8  303.41757"
      ]
     },
     "execution_count": 52,
     "metadata": {},
     "output_type": "execute_result"
    }
   ],
   "source": [
    "df_soil_temp_l_1 = pd.read_csv(\"data\\soil_temperature_level_1.csv\")\n",
    "df_soil_temp_l_1.head()"
   ]
  },
  {
   "cell_type": "code",
   "execution_count": 53,
   "metadata": {},
   "outputs": [
    {
     "data": {
      "application/vnd.microsoft.datawrangler.viewer.v0+json": {
       "columns": [
        {
         "name": "index",
         "rawType": "int64",
         "type": "integer"
        },
        {
         "name": "valid_time",
         "rawType": "object",
         "type": "string"
        },
        {
         "name": "latitude",
         "rawType": "float64",
         "type": "float"
        },
        {
         "name": "longitude",
         "rawType": "float64",
         "type": "float"
        },
        {
         "name": "slt",
         "rawType": "int64",
         "type": "integer"
        }
       ],
       "conversionMethod": "pd.DataFrame",
       "ref": "79763e38-b964-494e-a195-16958de35650",
       "rows": [
        [
         "0",
         "01-05-2024",
         "19.05",
         "72.8",
         "0"
        ],
        [
         "1",
         "01-05-2024",
         "18.8",
         "72.8",
         "0"
        ],
        [
         "2",
         "02-05-2024",
         "19.05",
         "72.8",
         "0"
        ],
        [
         "3",
         "02-05-2024",
         "18.8",
         "72.8",
         "0"
        ],
        [
         "4",
         "03-05-2024",
         "19.05",
         "72.8",
         "0"
        ]
       ],
       "shape": {
        "columns": 4,
        "rows": 5
       }
      },
      "text/html": [
       "<div>\n",
       "<style scoped>\n",
       "    .dataframe tbody tr th:only-of-type {\n",
       "        vertical-align: middle;\n",
       "    }\n",
       "\n",
       "    .dataframe tbody tr th {\n",
       "        vertical-align: top;\n",
       "    }\n",
       "\n",
       "    .dataframe thead th {\n",
       "        text-align: right;\n",
       "    }\n",
       "</style>\n",
       "<table border=\"1\" class=\"dataframe\">\n",
       "  <thead>\n",
       "    <tr style=\"text-align: right;\">\n",
       "      <th></th>\n",
       "      <th>valid_time</th>\n",
       "      <th>latitude</th>\n",
       "      <th>longitude</th>\n",
       "      <th>slt</th>\n",
       "    </tr>\n",
       "  </thead>\n",
       "  <tbody>\n",
       "    <tr>\n",
       "      <th>0</th>\n",
       "      <td>01-05-2024</td>\n",
       "      <td>19.05</td>\n",
       "      <td>72.8</td>\n",
       "      <td>0</td>\n",
       "    </tr>\n",
       "    <tr>\n",
       "      <th>1</th>\n",
       "      <td>01-05-2024</td>\n",
       "      <td>18.80</td>\n",
       "      <td>72.8</td>\n",
       "      <td>0</td>\n",
       "    </tr>\n",
       "    <tr>\n",
       "      <th>2</th>\n",
       "      <td>02-05-2024</td>\n",
       "      <td>19.05</td>\n",
       "      <td>72.8</td>\n",
       "      <td>0</td>\n",
       "    </tr>\n",
       "    <tr>\n",
       "      <th>3</th>\n",
       "      <td>02-05-2024</td>\n",
       "      <td>18.80</td>\n",
       "      <td>72.8</td>\n",
       "      <td>0</td>\n",
       "    </tr>\n",
       "    <tr>\n",
       "      <th>4</th>\n",
       "      <td>03-05-2024</td>\n",
       "      <td>19.05</td>\n",
       "      <td>72.8</td>\n",
       "      <td>0</td>\n",
       "    </tr>\n",
       "  </tbody>\n",
       "</table>\n",
       "</div>"
      ],
      "text/plain": [
       "   valid_time  latitude  longitude  slt\n",
       "0  01-05-2024     19.05       72.8    0\n",
       "1  01-05-2024     18.80       72.8    0\n",
       "2  02-05-2024     19.05       72.8    0\n",
       "3  02-05-2024     18.80       72.8    0\n",
       "4  03-05-2024     19.05       72.8    0"
      ]
     },
     "execution_count": 53,
     "metadata": {},
     "output_type": "execute_result"
    }
   ],
   "source": [
    "df_soil_type = pd.read_csv(\"data\\soil_type.csv\")\n",
    "df_soil_type.head()"
   ]
  },
  {
   "cell_type": "code",
   "execution_count": 54,
   "metadata": {},
   "outputs": [
    {
     "data": {
      "application/vnd.microsoft.datawrangler.viewer.v0+json": {
       "columns": [
        {
         "name": "index",
         "rawType": "int64",
         "type": "integer"
        },
        {
         "name": "valid_time",
         "rawType": "object",
         "type": "string"
        },
        {
         "name": "latitude",
         "rawType": "float64",
         "type": "float"
        },
        {
         "name": "longitude",
         "rawType": "float64",
         "type": "float"
        },
        {
         "name": "sp",
         "rawType": "float64",
         "type": "float"
        }
       ],
       "conversionMethod": "pd.DataFrame",
       "ref": "311a1423-f93c-4d4c-9ced-3553225e17ac",
       "rows": [
        [
         "0",
         "01-05-2024",
         "19.05",
         "72.8",
         "100438.91"
        ],
        [
         "1",
         "01-05-2024",
         "18.8",
         "72.8",
         "100375.41"
        ],
        [
         "2",
         "02-05-2024",
         "19.05",
         "72.8",
         "100484.24"
        ],
        [
         "3",
         "02-05-2024",
         "18.8",
         "72.8",
         "100417.945"
        ],
        [
         "4",
         "03-05-2024",
         "19.05",
         "72.8",
         "100586.96"
        ]
       ],
       "shape": {
        "columns": 4,
        "rows": 5
       }
      },
      "text/html": [
       "<div>\n",
       "<style scoped>\n",
       "    .dataframe tbody tr th:only-of-type {\n",
       "        vertical-align: middle;\n",
       "    }\n",
       "\n",
       "    .dataframe tbody tr th {\n",
       "        vertical-align: top;\n",
       "    }\n",
       "\n",
       "    .dataframe thead th {\n",
       "        text-align: right;\n",
       "    }\n",
       "</style>\n",
       "<table border=\"1\" class=\"dataframe\">\n",
       "  <thead>\n",
       "    <tr style=\"text-align: right;\">\n",
       "      <th></th>\n",
       "      <th>valid_time</th>\n",
       "      <th>latitude</th>\n",
       "      <th>longitude</th>\n",
       "      <th>sp</th>\n",
       "    </tr>\n",
       "  </thead>\n",
       "  <tbody>\n",
       "    <tr>\n",
       "      <th>0</th>\n",
       "      <td>01-05-2024</td>\n",
       "      <td>19.05</td>\n",
       "      <td>72.8</td>\n",
       "      <td>100438.910</td>\n",
       "    </tr>\n",
       "    <tr>\n",
       "      <th>1</th>\n",
       "      <td>01-05-2024</td>\n",
       "      <td>18.80</td>\n",
       "      <td>72.8</td>\n",
       "      <td>100375.410</td>\n",
       "    </tr>\n",
       "    <tr>\n",
       "      <th>2</th>\n",
       "      <td>02-05-2024</td>\n",
       "      <td>19.05</td>\n",
       "      <td>72.8</td>\n",
       "      <td>100484.240</td>\n",
       "    </tr>\n",
       "    <tr>\n",
       "      <th>3</th>\n",
       "      <td>02-05-2024</td>\n",
       "      <td>18.80</td>\n",
       "      <td>72.8</td>\n",
       "      <td>100417.945</td>\n",
       "    </tr>\n",
       "    <tr>\n",
       "      <th>4</th>\n",
       "      <td>03-05-2024</td>\n",
       "      <td>19.05</td>\n",
       "      <td>72.8</td>\n",
       "      <td>100586.960</td>\n",
       "    </tr>\n",
       "  </tbody>\n",
       "</table>\n",
       "</div>"
      ],
      "text/plain": [
       "   valid_time  latitude  longitude          sp\n",
       "0  01-05-2024     19.05       72.8  100438.910\n",
       "1  01-05-2024     18.80       72.8  100375.410\n",
       "2  02-05-2024     19.05       72.8  100484.240\n",
       "3  02-05-2024     18.80       72.8  100417.945\n",
       "4  03-05-2024     19.05       72.8  100586.960"
      ]
     },
     "execution_count": 54,
     "metadata": {},
     "output_type": "execute_result"
    }
   ],
   "source": [
    "df_surface_pressure = pd.read_csv(\"data\\surface_pressure.csv\")\n",
    "df_surface_pressure.head()"
   ]
  },
  {
   "cell_type": "code",
   "execution_count": 69,
   "metadata": {},
   "outputs": [
    {
     "data": {
      "application/vnd.microsoft.datawrangler.viewer.v0+json": {
       "columns": [
        {
         "name": "index",
         "rawType": "int64",
         "type": "integer"
        },
        {
         "name": "valid_time",
         "rawType": "object",
         "type": "string"
        },
        {
         "name": "latitude",
         "rawType": "float64",
         "type": "float"
        },
        {
         "name": "longitude",
         "rawType": "float64",
         "type": "float"
        },
        {
         "name": "temperature",
         "rawType": "float64",
         "type": "float"
        },
        {
         "name": "volumetric_soil_water_layer_1",
         "rawType": "float64",
         "type": "float"
        },
        {
         "name": "precipitation",
         "rawType": "float64",
         "type": "float"
        },
        {
         "name": "sea_surface_temperature",
         "rawType": "float64",
         "type": "float"
        },
        {
         "name": "soil_temperature_level_1",
         "rawType": "float64",
         "type": "float"
        },
        {
         "name": "soil_type",
         "rawType": "int64",
         "type": "integer"
        },
        {
         "name": "surface_pressure",
         "rawType": "float64",
         "type": "float"
        }
       ],
       "conversionMethod": "pd.DataFrame",
       "ref": "8c0e9b57-0dcb-4791-822f-13895f011976",
       "rows": [
        [
         "0",
         "01-05-2024",
         "18.8",
         "72.8",
         "302.3444",
         "0.028105043",
         "0.0",
         "302.76273",
         "303.0579",
         "0",
         "100375.41"
        ],
        [
         "1",
         "01-05-2024",
         "19.05",
         "72.8",
         "302.6805",
         "0.026228828",
         "0.0",
         "302.85666",
         "303.6378",
         "0",
         "100438.91"
        ],
        [
         "2",
         "02-05-2024",
         "18.8",
         "72.8",
         "301.58856",
         "0.02807489",
         "0.0",
         "302.78848",
         "302.96512",
         "0",
         "100417.945"
        ],
        [
         "3",
         "02-05-2024",
         "19.05",
         "72.8",
         "301.8137",
         "0.026442325",
         "0.0",
         "302.79294",
         "303.39496",
         "0",
         "100484.24"
        ],
        [
         "4",
         "03-05-2024",
         "18.8",
         "72.8",
         "301.0878",
         "0.027911285",
         "0.0",
         "302.93222",
         "303.0303",
         "0",
         "100516.945"
        ]
       ],
       "shape": {
        "columns": 10,
        "rows": 5
       }
      },
      "text/html": [
       "<div>\n",
       "<style scoped>\n",
       "    .dataframe tbody tr th:only-of-type {\n",
       "        vertical-align: middle;\n",
       "    }\n",
       "\n",
       "    .dataframe tbody tr th {\n",
       "        vertical-align: top;\n",
       "    }\n",
       "\n",
       "    .dataframe thead th {\n",
       "        text-align: right;\n",
       "    }\n",
       "</style>\n",
       "<table border=\"1\" class=\"dataframe\">\n",
       "  <thead>\n",
       "    <tr style=\"text-align: right;\">\n",
       "      <th></th>\n",
       "      <th>valid_time</th>\n",
       "      <th>latitude</th>\n",
       "      <th>longitude</th>\n",
       "      <th>temperature</th>\n",
       "      <th>volumetric_soil_water_layer_1</th>\n",
       "      <th>precipitation</th>\n",
       "      <th>sea_surface_temperature</th>\n",
       "      <th>soil_temperature_level_1</th>\n",
       "      <th>soil_type</th>\n",
       "      <th>surface_pressure</th>\n",
       "    </tr>\n",
       "  </thead>\n",
       "  <tbody>\n",
       "    <tr>\n",
       "      <th>0</th>\n",
       "      <td>01-05-2024</td>\n",
       "      <td>18.80</td>\n",
       "      <td>72.8</td>\n",
       "      <td>302.34440</td>\n",
       "      <td>0.028105</td>\n",
       "      <td>0.0</td>\n",
       "      <td>302.76273</td>\n",
       "      <td>303.05790</td>\n",
       "      <td>0</td>\n",
       "      <td>100375.410</td>\n",
       "    </tr>\n",
       "    <tr>\n",
       "      <th>1</th>\n",
       "      <td>01-05-2024</td>\n",
       "      <td>19.05</td>\n",
       "      <td>72.8</td>\n",
       "      <td>302.68050</td>\n",
       "      <td>0.026229</td>\n",
       "      <td>0.0</td>\n",
       "      <td>302.85666</td>\n",
       "      <td>303.63780</td>\n",
       "      <td>0</td>\n",
       "      <td>100438.910</td>\n",
       "    </tr>\n",
       "    <tr>\n",
       "      <th>2</th>\n",
       "      <td>02-05-2024</td>\n",
       "      <td>18.80</td>\n",
       "      <td>72.8</td>\n",
       "      <td>301.58856</td>\n",
       "      <td>0.028075</td>\n",
       "      <td>0.0</td>\n",
       "      <td>302.78848</td>\n",
       "      <td>302.96512</td>\n",
       "      <td>0</td>\n",
       "      <td>100417.945</td>\n",
       "    </tr>\n",
       "    <tr>\n",
       "      <th>3</th>\n",
       "      <td>02-05-2024</td>\n",
       "      <td>19.05</td>\n",
       "      <td>72.8</td>\n",
       "      <td>301.81370</td>\n",
       "      <td>0.026442</td>\n",
       "      <td>0.0</td>\n",
       "      <td>302.79294</td>\n",
       "      <td>303.39496</td>\n",
       "      <td>0</td>\n",
       "      <td>100484.240</td>\n",
       "    </tr>\n",
       "    <tr>\n",
       "      <th>4</th>\n",
       "      <td>03-05-2024</td>\n",
       "      <td>18.80</td>\n",
       "      <td>72.8</td>\n",
       "      <td>301.08780</td>\n",
       "      <td>0.027911</td>\n",
       "      <td>0.0</td>\n",
       "      <td>302.93222</td>\n",
       "      <td>303.03030</td>\n",
       "      <td>0</td>\n",
       "      <td>100516.945</td>\n",
       "    </tr>\n",
       "  </tbody>\n",
       "</table>\n",
       "</div>"
      ],
      "text/plain": [
       "   valid_time  latitude  longitude  temperature  \\\n",
       "0  01-05-2024     18.80       72.8    302.34440   \n",
       "1  01-05-2024     19.05       72.8    302.68050   \n",
       "2  02-05-2024     18.80       72.8    301.58856   \n",
       "3  02-05-2024     19.05       72.8    301.81370   \n",
       "4  03-05-2024     18.80       72.8    301.08780   \n",
       "\n",
       "   volumetric_soil_water_layer_1  precipitation  sea_surface_temperature  \\\n",
       "0                       0.028105            0.0                302.76273   \n",
       "1                       0.026229            0.0                302.85666   \n",
       "2                       0.028075            0.0                302.78848   \n",
       "3                       0.026442            0.0                302.79294   \n",
       "4                       0.027911            0.0                302.93222   \n",
       "\n",
       "   soil_temperature_level_1  soil_type  surface_pressure  \n",
       "0                 303.05790          0        100375.410  \n",
       "1                 303.63780          0        100438.910  \n",
       "2                 302.96512          0        100417.945  \n",
       "3                 303.39496          0        100484.240  \n",
       "4                 303.03030          0        100516.945  "
      ]
     },
     "execution_count": 69,
     "metadata": {},
     "output_type": "execute_result"
    }
   ],
   "source": [
    "file_paths = {\n",
    "    \"temperature\": \"data\\_temperature.csv\",\n",
    "    \"volumetric_soil_water_layer_1\": \"data\\_volumetric_soil_water_layer_1.csv\",\n",
    "    \"precipitation\": \"data\\precipitation.csv\",\n",
    "    \"sea_surface_temperature\": \"data\\sea_surface_temperature.csv\",\n",
    "    \"soil_temperature_level_1\": \"data\\soil_temperature_level_1.csv\",\n",
    "    \"soil_type\": \"data\\soil_type.csv\",\n",
    "    \"surface_pressure\": \"data\\surface_pressure.csv\",\n",
>>>>>>> 3007486f1f4a1e2769cfb1ada18f2fcf7d69142a
    "}\n",
    "\n",
    "# Initialize an empty list to store DataFrames\n",
    "dfs = []\n",
    "\n",
    "# Read each CSV and extract relevant columns\n",
    "for name, path in file_paths.items():\n",
    "    df = pd.read_csv(path)\n",
    "    # Identify unique columns (excluding common ones)\n",
    "    unique_cols = [col for col in df.columns if col not in ['valid_time', 'latitude', 'longitude']]\n",
    "    if unique_cols:\n",
    "        unique_col = unique_cols[0]  # Assuming one unique column per file\n",
    "        df = df[['valid_time', 'latitude', 'longitude', unique_col]]\n",
    "        df.rename(columns={unique_col: name}, inplace=True)  # Rename to file-specific name\n",
    "        dfs.append(df)\n",
    "\n",
    "# Merge all DataFrames on common columns\n",
    "merged_df = dfs[0]\n",
    "for df in dfs[1:]:\n",
    "    merged_df = pd.merge(merged_df, df, on=['valid_time', 'latitude', 'longitude'], how='outer')\n",
    "\n",
    "# Save to a new CSV file\n",
<<<<<<< HEAD
    "if os.path.exists(\"data/merged/merged_data.csv\"):\n",
    "    print(\"File alreay exists\")\n",
    "else:\n",
    "    merged_df.to_csv(\"data/merged/merged_data.csv\", index=False)\n",
    "    print(\"File created\")\n",
    "\n",
    "# Display the merged DataFrame head\n",
    "merged_df.head()"
=======
    "output_path = \"data/merged/merged_data.csv\"\n",
    "merged_df.to_csv(output_path, index=False)\n",
    "\n",
    "# Display the merged DataFrame head\n",
    "merged_df.head()\n"
>>>>>>> 3007486f1f4a1e2769cfb1ada18f2fcf7d69142a
   ]
  },
  {
   "cell_type": "code",
   "execution_count": null,
   "metadata": {},
   "outputs": [
    {
     "name": "stdout",
     "output_type": "stream",
     "text": [
      "None\n"
     ]
    }
   ],
   "source": []
  },
  {
   "cell_type": "code",
   "execution_count": null,
   "metadata": {},
   "outputs": [],
   "source": []
  }
 ],
 "metadata": {
  "kernelspec": {
   "display_name": "dm-env",
   "language": "python",
   "name": "python3"
  },
  "language_info": {
   "codemirror_mode": {
    "name": "ipython",
    "version": 3
   },
   "file_extension": ".py",
   "mimetype": "text/x-python",
   "name": "python",
   "nbconvert_exporter": "python",
   "pygments_lexer": "ipython3",
   "version": "3.9.21"
  }
 },
 "nbformat": 4,
 "nbformat_minor": 2
}
