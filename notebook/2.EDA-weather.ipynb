{
 "cells": [
  {
   "cell_type": "code",
   "execution_count": null,
   "metadata": {},
   "outputs": [],
   "source": [
    "import os\n",
    "import pandas as pd\n",
    "import numpy as np\n",
    "import seaborn as sns\n",
    "import matplotlib.pyplot as plt\n",
    "%matplotlib inline\n",
    "import warnings \n",
    "warnings.filterwarnings('ignore')\n"
   ]
  },
  {
   "cell_type": "code",
   "execution_count": null,
   "metadata": {},
   "outputs": [],
   "source": [
    "df_merged = pd.read_csv(\"data\\_2012\\_merged\\merged_data.csv\")\n",
    "df_merged "
   ]
  },
  {
   "cell_type": "code",
   "execution_count": null,
   "metadata": {},
   "outputs": [],
   "source": [
    "df_merged[\"valid_time\"] = pd.to_datetime(df_merged[\"valid_time\"], format=\"%d-%m-%y\")\n",
    "df_merged[\"month\"] = df_merged[\"valid_time\"].dt.month\n",
    "\n",
    "# Group by month and calculate mean values for visualization\n",
    "monthly_data = df_merged.groupby(\"month\").mean()\n",
    "\n",
    "# Set figure size\n",
    "plt.figure(figsize=(2, 2))"
   ]
  },
  {
   "cell_type": "code",
   "execution_count": null,
   "metadata": {},
   "outputs": [],
   "source": [
    "# Plot 1: Temperature Trends\n",
    "plt.subplot(1, 1, 1)\n",
    "plt.plot(monthly_data.index, monthly_data[\"max_temperature\"], label=\"Max Temperature (K)\", color=\"red\", marker=\"o\")\n",
    "plt.plot(monthly_data.index, monthly_data[\"mean_temperature\"], label=\"Mean Temperature (K)\", color=\"green\", marker=\"o\")\n",
    "plt.xlabel(\"Month\")\n",
    "plt.ylabel(\"Temperature (K)\")\n",
    "plt.title(\"Monthly Temperature Trends (Kelvin)\")\n",
    "plt.xticks(range(1, 13), labels=[\"Jan\", \"Feb\", \"Mar\", \"Apr\", \"May\", \"Jun\", \"Jul\", \"Aug\", \"Sep\", \"Oct\", \"Nov\", \"Dec\"])\n",
    "plt.grid(True)\n",
    "plt.legend()\n",
    "plt.show()\n"
   ]
  },
  {
   "cell_type": "code",
   "execution_count": null,
   "metadata": {},
   "outputs": [],
   "source": [
    "plt.subplot(1, 1, 1)\n",
    "plt.plot(monthly_data.index, monthly_data[\"max_precipitation\"], label=\"Max Precipitation (mm)\", color=\"darkblue\", marker=\"o\")\n",
    "plt.plot(monthly_data.index, monthly_data[\"mean_precipitation\"], label=\"Mean Precipitation (mm)\", color=\"lightblue\", marker=\"o\")\n",
    "plt.xlabel(\"Month\")\n",
    "plt.ylabel(\"Precipitation (mm)\")\n",
    "plt.title(\"Monthly Precipitation Trends\")\n",
    "plt.xticks(range(1, 13), labels=[\"Jan\", \"Feb\", \"Mar\", \"Apr\", \"May\", \"Jun\", \"Jul\", \"Aug\", \"Sep\", \"Oct\", \"Nov\", \"Dec\"])\n",
    "plt.legend()\n",
    "plt.tight_layout()\n",
    "plt.show()"
   ]
  },
  {
   "cell_type": "code",
   "execution_count": null,
   "metadata": {},
   "outputs": [],
   "source": [
    "plt.subplot(1, 1, 1)\n",
    "plt.plot(monthly_data.index, monthly_data[\"mslp\"], label=\"Mean Sea Level Pressure (Pa)\", color=\"yellow\", marker=\"o\")\n",
    "plt.xlabel(\"Month\")\n",
    "plt.ylabel(\"MSLP (Pa)\")\n",
    "plt.title(\"Monthly MSLP Trends\")\n",
    "plt.xticks(range(1, 13), labels=[\"Jan\", \"Feb\", \"Mar\", \"Apr\", \"May\", \"Jun\", \"Jul\", \"Aug\", \"Sep\", \"Oct\", \"Nov\", \"Dec\"])\n",
    "plt.legend()\n",
    "plt.tight_layout()\n",
    "plt.show()"
   ]
  },
  {
   "cell_type": "code",
   "execution_count": null,
   "metadata": {},
   "outputs": [],
   "source": [
    "# Ensure valid_time is in datetime format\n",
    "df_merged[\"valid_time\"] = pd.to_datetime(df_merged[\"valid_time\"], format=\"%d-%m-%y\", errors=\"coerce\")\n",
    "\n",
    "# Extract numeric features from date\n",
    "df_merged[\"month\"] = df_merged[\"valid_time\"].dt.month  # Extract month (1-12)\n",
    "df_merged[\"day_of_year\"] = df_merged[\"valid_time\"].dt.dayofyear \n",
    "df_merged[\"year\"] = df_merged[\"valid_time\"].dt.year         # Extract Year\n",
    " # Extract day of year (1-365)\n",
    "\n",
    "# Drop the original datetime column\n",
    "df_merged.drop(columns=[\"valid_time\"], inplace=True)"
   ]
  },
  {
   "cell_type": "code",
   "execution_count": null,
   "metadata": {},
   "outputs": [],
   "source": [
    "\n",
    "heatwave_threshold = df_merged[\"max_temperature\"].quantile(0.90)\n",
    "# Create binary class label: 1 if max_temperature exceeds threshold, else 0\n",
    "df_merged[\"heatwave_label\"] = (df_merged[\"max_temperature\"] > heatwave_threshold).astype(int)\n"
   ]
  },
  {
   "cell_type": "code",
   "execution_count": null,
   "metadata": {},
   "outputs": [],
   "source": [
    "df_merged"
   ]
  },
  {
   "cell_type": "code",
   "execution_count": null,
   "metadata": {},
   "outputs": [],
   "source": [
    "if os.path.exists(\"data/_2012/_labelled/heat_labelled.csv\"):\n",
    "    print(\"Files already exist\")\n",
    "else:\n",
    "    df_merged.to_csv(\"data/_2012/_labelled/heat_labelled.csv\")\n",
    "    print(\"File created\") "
   ]
  },
  {
   "cell_type": "code",
   "execution_count": null,
   "metadata": {},
   "outputs": [],
   "source": []
  },
  {
   "cell_type": "code",
   "execution_count": null,
   "metadata": {},
   "outputs": [],
   "source": []
  },
  {
   "cell_type": "code",
   "execution_count": null,
   "metadata": {},
   "outputs": [],
   "source": [
    " "
   ]
  }
 ],
 "metadata": {
  "kernelspec": {
   "display_name": "dm-env",
   "language": "python",
   "name": "python3"
  },
  "language_info": {
   "codemirror_mode": {
    "name": "ipython",
    "version": 3
   },
   "file_extension": ".py",
   "mimetype": "text/x-python",
   "name": "python",
   "nbconvert_exporter": "python",
   "pygments_lexer": "ipython3",
   "version": "3.9.21"
  }
 },
 "nbformat": 4,
 "nbformat_minor": 2
}
