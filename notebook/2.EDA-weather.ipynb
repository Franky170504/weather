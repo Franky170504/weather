{
 "cells": [
  {
   "cell_type": "code",
   "execution_count": null,
   "metadata": {},
   "outputs": [],
   "source": [
    "import os\n",
    "import pandas as pd\n",
    "import numpy as np\n",
    "import seaborn as sns\n",
    "import matplotlib.pyplot as plt"
   ]
  },
  {
   "cell_type": "code",
   "execution_count": null,
   "metadata": {},
   "outputs": [],
   "source": [
    "df = pd.read_csv(r\"data\\unlabelled\\santacruz_cleaned.csv\")\n",
    "df"
   ]
  },
  {
   "cell_type": "code",
   "execution_count": null,
   "metadata": {},
   "outputs": [],
   "source": [
    "normals = {\n",
    "    1: 30.4, 2: 31.1, 3: 32.6, 4: 33.0, 5: 33.3, 6: 32.0,\n",
    "    7: 29.9, 8: 29.5, 9: 30.2, 10: 33.1, 11: 33.4, 12: 31.9\n",
    "}\n",
    "df.insert(loc=8, column='Normal_Temp', value=df['MN'].map(normals))"
   ]
  },
  {
   "cell_type": "code",
   "execution_count": null,
   "metadata": {},
   "outputs": [],
   "source": [
    "df"
   ]
  },
  {
   "cell_type": "code",
   "execution_count": null,
   "metadata": {},
   "outputs": [],
   "source": [
    "df.to_csv(r\"data\\unlabelled\\santacuz_with_normal.csv\")"
   ]
  },
  {
   "cell_type": "code",
   "execution_count": null,
   "metadata": {},
   "outputs": [],
   "source": [
    "daily_max = df.groupby(['YEAR', 'MN', 'DT'])['DBT'].max().reset_index()\n",
    "thresholds = {month: normal + 4.5 for month, normal in normals.items()}\n",
    "\n",
    "# Function to determine heatwave label\n",
    "def is_heatwave(dbt, month):\n",
    "    if dbt >= 37.0 or dbt >= thresholds[month]:\n",
    "        return 1\n",
    "    return 0\n",
    "\n",
    "# Merge daily max DBT back to original dataframe\n",
    "df = df.merge(daily_max[['YEAR', 'MN', 'DT', 'DBT']], on=['YEAR', 'MN', 'DT'], suffixes=('', '_max'))\n",
    "df['Heatwave'] = df.apply(lambda row: is_heatwave(row['DBT_max'], row['MN']), axis=1)\n",
    "df = df.drop(columns=['DBT_max'])  # Remove temporary max column\n",
    "print(thresholds)"
   ]
  },
  {
   "cell_type": "code",
   "execution_count": null,
   "metadata": {},
   "outputs": [],
   "source": [
    "df"
   ]
  },
  {
   "cell_type": "code",
   "execution_count": null,
   "metadata": {},
   "outputs": [],
   "source": [
    "heatwave_counts = df['Heatwave'].value_counts()\n",
    "heatwave_counts"
   ]
  },
  {
   "cell_type": "code",
   "execution_count": null,
   "metadata": {},
   "outputs": [],
   "source": [
    "if os.path.exists(r\"data\\labelled\\santacruz_labelled.csv\"):\n",
    "    print(\"Labelled processed data exists\")\n",
    "else:\n",
    "    df.to_csv(r\"data\\labelled\\santacruz_labelled.csv\", index= False)\n",
    "    print(\"Labelled processed data created\")"
   ]
  },
  {
   "cell_type": "code",
   "execution_count": null,
   "metadata": {},
   "outputs": [],
   "source": [
    "df['DATE'] = pd.to_datetime(df[['YEAR', 'MN', 'DT']].rename(columns={'MN': 'month', 'DT': 'day'}))\n",
    "df.set_index('DATE', inplace=True)\n",
    "df"
   ]
  },
  {
   "cell_type": "code",
   "execution_count": null,
   "metadata": {},
   "outputs": [],
   "source": [
    "df.drop(columns=['INDEX', 'YEAR', 'MN', 'DT', 'HR'], inplace=True)\n"
   ]
  },
  {
   "cell_type": "code",
   "execution_count": null,
   "metadata": {},
   "outputs": [],
   "source": [
    "daily_df = df.resample('D').mean()\n"
   ]
  },
  {
   "cell_type": "code",
   "execution_count": null,
   "metadata": {},
   "outputs": [],
   "source": [
    "if os.path.exists(r\"data\\labelled\\santacruz_labelled_daily.csv\"):\n",
    "    print(\"Labelled processed data exists\")\n",
    "else:\n",
    "    daily_df.to_csv(r\"data\\labelled\\santacruz_labelled_daily.csv\", index= False)\n",
    "    print(\"Labelled processed data created\")"
   ]
  },
  {
   "cell_type": "code",
   "execution_count": null,
   "metadata": {},
   "outputs": [],
   "source": [
    "df_daily = pd.read_csv(r\"data\\labelled\\santacruz_labelled_daily.csv\")"
   ]
  },
  {
   "cell_type": "code",
   "execution_count": null,
   "metadata": {},
   "outputs": [],
   "source": [
    "df_daily"
   ]
  },
  {
   "cell_type": "code",
   "execution_count": null,
   "metadata": {},
   "outputs": [],
   "source": [
    "df_daily.isnull().sum()"
   ]
  },
  {
   "cell_type": "code",
   "execution_count": null,
   "metadata": {},
   "outputs": [],
   "source": [
    "# Create a proper datetime column from YEAR, MN (month), and DT (day)\n",
    "df['Date'] = pd.to_datetime(df[['YEAR', 'MN', 'DT']].rename(columns={'YEAR': 'year', 'MN': 'month', 'DT': 'day'}))\n",
    "\n",
    "# Group by Date to check daily heatwave occurrences (since multiple entries exist per day)\n",
    "daily_heatwave = df.groupby('Date')['Heatwave'].max().reset_index()"
   ]
  },
  {
   "cell_type": "code",
   "execution_count": null,
   "metadata": {},
   "outputs": [],
   "source": [
    "daily_heatwave['heatwave_days'] = 0\n",
    "consecutive_days = (daily_heatwave['Heatwave'] == 1) & (daily_heatwave['Heatwave'].shift(1) == 1)\n",
    "\n",
    "# Assign 1 to the identified consecutive heatwave days\n",
    "daily_heatwave.loc[consecutive_days | consecutive_days.shift(-1, fill_value=False), 'heatwave_days'] = 1"
   ]
  },
  {
   "cell_type": "code",
   "execution_count": null,
   "metadata": {},
   "outputs": [],
   "source": [
    "df_days = df.merge(daily_heatwave[['Date', 'heatwave_days']], on='Date', how='left')\n",
    "\n",
    "# Drop temporary Date column\n",
    "df_days.drop(columns=['Date'], inplace=True)\n"
   ]
  },
  {
   "cell_type": "code",
   "execution_count": null,
   "metadata": {},
   "outputs": [],
   "source": [
    "df_days"
   ]
  },
  {
   "cell_type": "code",
   "execution_count": null,
   "metadata": {},
   "outputs": [],
   "source": [
    "df_days.to_csv(r\"data\\labelled\\santacruz_labelled_days.csv\", index= False)"
   ]
  }
 ],
 "metadata": {
  "kernelspec": {
   "display_name": "dm-env",
   "language": "python",
   "name": "python3"
  },
  "language_info": {
   "codemirror_mode": {
    "name": "ipython",
    "version": 3
   },
   "file_extension": ".py",
   "mimetype": "text/x-python",
   "name": "python",
   "nbconvert_exporter": "python",
   "pygments_lexer": "ipython3",
   "version": "3.9.21"
  }
 },
 "nbformat": 4,
 "nbformat_minor": 2
}
